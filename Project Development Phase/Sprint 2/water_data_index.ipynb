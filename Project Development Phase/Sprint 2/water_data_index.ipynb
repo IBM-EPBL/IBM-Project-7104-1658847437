{
 "cells": [
  {
   "cell_type": "markdown",
   "id": "eca6fc56",
   "metadata": {},
   "source": [
    "### Import Libraries"
   ]
  },
  {
   "cell_type": "code",
   "execution_count": 1,
   "id": "29305e51",
   "metadata": {},
   "outputs": [],
   "source": [
    "import numpy as np\n",
    "import pandas as pd\n",
    "import seaborn as sns \n",
    "import matplotlib.pyplot as plt\n",
    "from sklearn.impute import SimpleImputer\n",
    "from sklearn.neighbors import LocalOutlierFactor\n",
    "from scipy.stats import probplot\n",
    "from scipy.stats import zscore"
   ]
  },
  {
   "cell_type": "markdown",
   "id": "cf495c37",
   "metadata": {},
   "source": [
    "###  Import the Dataset"
   ]
  },
  {
   "cell_type": "code",
   "execution_count": 13,
   "id": "b6e99e0a",
   "metadata": {},
   "outputs": [],
   "source": [
    "df=pd.read_csv(\"water_dataX.csv\",encoding= 'unicode_escape')"
   ]
  },
  {
   "cell_type": "code",
   "execution_count": 14,
   "id": "18579ebe",
   "metadata": {},
   "outputs": [
    {
     "data": {
      "text/html": [
       "<div>\n",
       "<style scoped>\n",
       "    .dataframe tbody tr th:only-of-type {\n",
       "        vertical-align: middle;\n",
       "    }\n",
       "\n",
       "    .dataframe tbody tr th {\n",
       "        vertical-align: top;\n",
       "    }\n",
       "\n",
       "    .dataframe thead th {\n",
       "        text-align: right;\n",
       "    }\n",
       "</style>\n",
       "<table border=\"1\" class=\"dataframe\">\n",
       "  <thead>\n",
       "    <tr style=\"text-align: right;\">\n",
       "      <th></th>\n",
       "      <th>STATION CODE</th>\n",
       "      <th>LOCATIONS</th>\n",
       "      <th>STATE</th>\n",
       "      <th>Temp</th>\n",
       "      <th>D.O. (mg/l)</th>\n",
       "      <th>PH</th>\n",
       "      <th>CONDUCTIVITY (µmhos/cm)</th>\n",
       "      <th>B.O.D. (mg/l)</th>\n",
       "      <th>NITRATENAN N+ NITRITENANN (mg/l)</th>\n",
       "      <th>FECAL COLIFORM (MPN/100ml)</th>\n",
       "      <th>TOTAL COLIFORM (MPN/100ml)Mean</th>\n",
       "      <th>year</th>\n",
       "    </tr>\n",
       "  </thead>\n",
       "  <tbody>\n",
       "    <tr>\n",
       "      <th>0</th>\n",
       "      <td>1393</td>\n",
       "      <td>DAMANGANGA AT D/S OF MADHUBAN, DAMAN</td>\n",
       "      <td>DAMAN &amp; DIU</td>\n",
       "      <td>30.6</td>\n",
       "      <td>6.7</td>\n",
       "      <td>7.5</td>\n",
       "      <td>203</td>\n",
       "      <td>NAN</td>\n",
       "      <td>0.1</td>\n",
       "      <td>11</td>\n",
       "      <td>27</td>\n",
       "      <td>2014</td>\n",
       "    </tr>\n",
       "    <tr>\n",
       "      <th>1</th>\n",
       "      <td>1399</td>\n",
       "      <td>ZUARI AT D/S OF PT. WHERE KUMBARJRIA CANAL JOI...</td>\n",
       "      <td>GOA</td>\n",
       "      <td>29.8</td>\n",
       "      <td>5.7</td>\n",
       "      <td>7.2</td>\n",
       "      <td>189</td>\n",
       "      <td>2</td>\n",
       "      <td>0.2</td>\n",
       "      <td>4953</td>\n",
       "      <td>8391</td>\n",
       "      <td>2014</td>\n",
       "    </tr>\n",
       "    <tr>\n",
       "      <th>2</th>\n",
       "      <td>1475</td>\n",
       "      <td>ZUARI AT PANCHAWADI</td>\n",
       "      <td>GOA</td>\n",
       "      <td>29.5</td>\n",
       "      <td>6.3</td>\n",
       "      <td>6.9</td>\n",
       "      <td>179</td>\n",
       "      <td>1.7</td>\n",
       "      <td>0.1</td>\n",
       "      <td>3243</td>\n",
       "      <td>5330</td>\n",
       "      <td>2014</td>\n",
       "    </tr>\n",
       "    <tr>\n",
       "      <th>3</th>\n",
       "      <td>3181</td>\n",
       "      <td>RIVER ZUARI AT BORIM BRIDGE</td>\n",
       "      <td>GOA</td>\n",
       "      <td>29.7</td>\n",
       "      <td>5.8</td>\n",
       "      <td>6.9</td>\n",
       "      <td>64</td>\n",
       "      <td>3.8</td>\n",
       "      <td>0.5</td>\n",
       "      <td>5382</td>\n",
       "      <td>8443</td>\n",
       "      <td>2014</td>\n",
       "    </tr>\n",
       "    <tr>\n",
       "      <th>4</th>\n",
       "      <td>3182</td>\n",
       "      <td>RIVER ZUARI AT MARCAIM JETTY</td>\n",
       "      <td>GOA</td>\n",
       "      <td>29.5</td>\n",
       "      <td>5.8</td>\n",
       "      <td>7.3</td>\n",
       "      <td>83</td>\n",
       "      <td>1.9</td>\n",
       "      <td>0.4</td>\n",
       "      <td>3428</td>\n",
       "      <td>5500</td>\n",
       "      <td>2014</td>\n",
       "    </tr>\n",
       "  </tbody>\n",
       "</table>\n",
       "</div>"
      ],
      "text/plain": [
       "  STATION CODE                                          LOCATIONS  \\\n",
       "0         1393               DAMANGANGA AT D/S OF MADHUBAN, DAMAN   \n",
       "1         1399  ZUARI AT D/S OF PT. WHERE KUMBARJRIA CANAL JOI...   \n",
       "2         1475                                ZUARI AT PANCHAWADI   \n",
       "3         3181                        RIVER ZUARI AT BORIM BRIDGE   \n",
       "4         3182                       RIVER ZUARI AT MARCAIM JETTY   \n",
       "\n",
       "         STATE  Temp D.O. (mg/l)   PH CONDUCTIVITY (µmhos/cm) B.O.D. (mg/l)  \\\n",
       "0  DAMAN & DIU  30.6         6.7  7.5                     203           NAN   \n",
       "1          GOA  29.8         5.7  7.2                     189             2   \n",
       "2          GOA  29.5         6.3  6.9                     179           1.7   \n",
       "3          GOA  29.7         5.8  6.9                      64           3.8   \n",
       "4          GOA  29.5         5.8  7.3                      83           1.9   \n",
       "\n",
       "  NITRATENAN N+ NITRITENANN (mg/l) FECAL COLIFORM (MPN/100ml)  \\\n",
       "0                              0.1                         11   \n",
       "1                              0.2                       4953   \n",
       "2                              0.1                       3243   \n",
       "3                              0.5                       5382   \n",
       "4                              0.4                       3428   \n",
       "\n",
       "  TOTAL COLIFORM (MPN/100ml)Mean  year  \n",
       "0                             27  2014  \n",
       "1                           8391  2014  \n",
       "2                           5330  2014  \n",
       "3                           8443  2014  \n",
       "4                           5500  2014  "
      ]
     },
     "execution_count": 14,
     "metadata": {},
     "output_type": "execute_result"
    }
   ],
   "source": [
    "df.head()"
   ]
  },
  {
   "cell_type": "code",
   "execution_count": 15,
   "id": "a2a68dc8",
   "metadata": {},
   "outputs": [
    {
     "data": {
      "text/plain": [
       "(1991, 12)"
      ]
     },
     "execution_count": 15,
     "metadata": {},
     "output_type": "execute_result"
    }
   ],
   "source": [
    "df.shape"
   ]
  },
  {
   "cell_type": "code",
   "execution_count": 16,
   "id": "224390ac",
   "metadata": {},
   "outputs": [
    {
     "name": "stdout",
     "output_type": "stream",
     "text": [
      "<class 'pandas.core.frame.DataFrame'>\n",
      "RangeIndex: 1991 entries, 0 to 1990\n",
      "Data columns (total 12 columns):\n",
      " #   Column                            Non-Null Count  Dtype \n",
      "---  ------                            --------------  ----- \n",
      " 0   STATION CODE                      1991 non-null   object\n",
      " 1   LOCATIONS                         1991 non-null   object\n",
      " 2   STATE                             1991 non-null   object\n",
      " 3   Temp                              1991 non-null   object\n",
      " 4   D.O. (mg/l)                       1991 non-null   object\n",
      " 5   PH                                1991 non-null   object\n",
      " 6   CONDUCTIVITY (µmhos/cm)           1991 non-null   object\n",
      " 7   B.O.D. (mg/l)                     1991 non-null   object\n",
      " 8   NITRATENAN N+ NITRITENANN (mg/l)  1991 non-null   object\n",
      " 9   FECAL COLIFORM (MPN/100ml)        1991 non-null   object\n",
      " 10  TOTAL COLIFORM (MPN/100ml)Mean    1991 non-null   object\n",
      " 11  year                              1991 non-null   int64 \n",
      "dtypes: int64(1), object(11)\n",
      "memory usage: 186.8+ KB\n"
     ]
    }
   ],
   "source": [
    "df.info()"
   ]
  },
  {
   "cell_type": "code",
   "execution_count": 17,
   "id": "fc8b10b1",
   "metadata": {},
   "outputs": [
    {
     "data": {
      "text/plain": [
       "STATION CODE                        object\n",
       "LOCATIONS                           object\n",
       "STATE                               object\n",
       "Temp                                object\n",
       "D.O. (mg/l)                         object\n",
       "PH                                  object\n",
       "CONDUCTIVITY (µmhos/cm)             object\n",
       "B.O.D. (mg/l)                       object\n",
       "NITRATENAN N+ NITRITENANN (mg/l)    object\n",
       "FECAL COLIFORM (MPN/100ml)          object\n",
       "TOTAL COLIFORM (MPN/100ml)Mean      object\n",
       "year                                 int64\n",
       "dtype: object"
      ]
     },
     "execution_count": 17,
     "metadata": {},
     "output_type": "execute_result"
    }
   ],
   "source": [
    "df.dtypes"
   ]
  },
  {
   "cell_type": "code",
   "execution_count": 18,
   "id": "996c6c4b",
   "metadata": {},
   "outputs": [],
   "source": [
    "df = df.rename(columns={\"D.O. (mg/l)\": \"DO\", \"CONDUCTIVITY (µmhos/cm)\": \"Conductivity\", \"B.O.D. (mg/l)\": \"BOD\", \"NITRATENAN N+ NITRITENANN (mg/l)\": \"NI\", \"FECAL COLIFORM (MPN/100ml)\": \"Fec_col\", \"TOTAL COLIFORM (MPN/100ml)Mean\": \"Tot_col\"})"
   ]
  },
  {
   "cell_type": "markdown",
   "id": "8018aaa3",
   "metadata": {},
   "source": [
    "### Converting object into numeric"
   ]
  },
  {
   "cell_type": "code",
   "execution_count": 19,
   "id": "db9680da",
   "metadata": {},
   "outputs": [],
   "source": [
    "def convert_to_numeric(df):\n",
    "    num_col = df.shape[1]\n",
    "    # Start from index 3\n",
    "    for index in range(3, num_col):\n",
    "        col_name = df.iloc[:, index].name\n",
    "        df[col_name] = pd.to_numeric(df[col_name], errors=\"coerce\")\n",
    "    return df"
   ]
  },
  {
   "cell_type": "code",
   "execution_count": 20,
   "id": "a1e6af9c",
   "metadata": {},
   "outputs": [
    {
     "data": {
      "text/plain": [
       "STATION CODE     object\n",
       "LOCATIONS        object\n",
       "STATE            object\n",
       "Temp            float64\n",
       "DO              float64\n",
       "PH              float64\n",
       "Conductivity    float64\n",
       "BOD             float64\n",
       "NI              float64\n",
       "Fec_col         float64\n",
       "Tot_col         float64\n",
       "year              int64\n",
       "dtype: object"
      ]
     },
     "execution_count": 20,
     "metadata": {},
     "output_type": "execute_result"
    }
   ],
   "source": [
    "df = convert_to_numeric(df)\n",
    "df.dtypes"
   ]
  },
  {
   "cell_type": "markdown",
   "id": "1f98ba16",
   "metadata": {},
   "source": [
    "###  Handling Missing values"
   ]
  },
  {
   "cell_type": "markdown",
   "id": "1e7709e9",
   "metadata": {},
   "source": [
    "Replacing string NAN values with actual NAN value (np.nan)"
   ]
  },
  {
   "cell_type": "code",
   "execution_count": 22,
   "id": "3c84e8aa",
   "metadata": {},
   "outputs": [
    {
     "data": {
      "text/plain": [
       "STATION CODE      0\n",
       "LOCATIONS         0\n",
       "STATE             0\n",
       "Temp             92\n",
       "DO               31\n",
       "PH                8\n",
       "Conductivity     25\n",
       "BOD              43\n",
       "NI              225\n",
       "Fec_col         316\n",
       "Tot_col         132\n",
       "year              0\n",
       "dtype: int64"
      ]
     },
     "execution_count": 22,
     "metadata": {},
     "output_type": "execute_result"
    }
   ],
   "source": [
    "df.isnull().sum()"
   ]
  },
  {
   "cell_type": "code",
   "execution_count": 21,
   "id": "91d9d561",
   "metadata": {},
   "outputs": [],
   "source": [
    "def convert_to_nan(df):\n",
    "    n_col = df.shape[1]\n",
    "    for index in range(n_col):\n",
    "        df.iloc[:, index]  = df.iloc[:, index].replace(\"NAN\", np.nan)\n",
    "    return df"
   ]
  },
  {
   "cell_type": "code",
   "execution_count": 23,
   "id": "d7e08d3f",
   "metadata": {},
   "outputs": [],
   "source": [
    "df = convert_to_nan(df)"
   ]
  },
  {
   "cell_type": "code",
   "execution_count": 25,
   "id": "f6c5e22b",
   "metadata": {},
   "outputs": [
    {
     "data": {
      "text/plain": [
       "year              0\n",
       "PH                8\n",
       "Conductivity     25\n",
       "DO               31\n",
       "BOD              43\n",
       "Temp             92\n",
       "STATION CODE    122\n",
       "Tot_col         132\n",
       "LOCATIONS       184\n",
       "NI              225\n",
       "Fec_col         316\n",
       "STATE           761\n",
       "dtype: int64"
      ]
     },
     "execution_count": 25,
     "metadata": {},
     "output_type": "execute_result"
    }
   ],
   "source": [
    "df.isnull().sum().sort_values()"
   ]
  },
  {
   "cell_type": "markdown",
   "id": "7bfa8b97",
   "metadata": {},
   "source": [
    "Since I have 1900 training examples, I can replace each missing value with median of the column (to avoid outliers)"
   ]
  },
  {
   "cell_type": "markdown",
   "id": "e1b6c574",
   "metadata": {},
   "source": [
    "- Replacing NULL values with median of column\n",
    "- Selecting numeric data"
   ]
  },
  {
   "cell_type": "code",
   "execution_count": 26,
   "id": "6d92cdb0",
   "metadata": {},
   "outputs": [],
   "source": [
    "df_num = df.select_dtypes(exclude=\"object\")\n",
    "df_num_col = df_num.columns\n",
    "imputer = SimpleImputer(strategy=\"median\")\n",
    "\n",
    "df_num = imputer.fit_transform(df_num)\n",
    "df_num = pd.DataFrame(df_num, columns=df_num_col)"
   ]
  },
  {
   "cell_type": "markdown",
   "id": "38beb59c",
   "metadata": {},
   "source": [
    " Filling Categorical missing values"
   ]
  },
  {
   "cell_type": "code",
   "execution_count": 27,
   "id": "f0f449c1",
   "metadata": {},
   "outputs": [
    {
     "data": {
      "text/plain": [
       "STATION CODE    122\n",
       "LOCATIONS       184\n",
       "STATE           761\n",
       "dtype: int64"
      ]
     },
     "execution_count": 27,
     "metadata": {},
     "output_type": "execute_result"
    }
   ],
   "source": [
    "df_cat = df.select_dtypes(include=\"object\")\n",
    "df_cat.isnull().sum()"
   ]
  },
  {
   "cell_type": "markdown",
   "id": "da19068b",
   "metadata": {},
   "source": [
    "Station Code with value 1330 will have Location\n",
    "- TAMBIRAPARANI which belongs in STATE - TAMIL NADU\n",
    "- I can replace all the NAN occurences in STATE with TAMILNADU"
   ]
  },
  {
   "cell_type": "code",
   "execution_count": 28,
   "id": "fce5f8c4",
   "metadata": {},
   "outputs": [
    {
     "data": {
      "text/html": [
       "<div>\n",
       "<style scoped>\n",
       "    .dataframe tbody tr th:only-of-type {\n",
       "        vertical-align: middle;\n",
       "    }\n",
       "\n",
       "    .dataframe tbody tr th {\n",
       "        vertical-align: top;\n",
       "    }\n",
       "\n",
       "    .dataframe thead th {\n",
       "        text-align: right;\n",
       "    }\n",
       "</style>\n",
       "<table border=\"1\" class=\"dataframe\">\n",
       "  <thead>\n",
       "    <tr style=\"text-align: right;\">\n",
       "      <th></th>\n",
       "      <th>STATION CODE</th>\n",
       "      <th>LOCATIONS</th>\n",
       "      <th>STATE</th>\n",
       "    </tr>\n",
       "  </thead>\n",
       "  <tbody>\n",
       "    <tr>\n",
       "      <th>166</th>\n",
       "      <td>1330</td>\n",
       "      <td>TAMBIRAPARANI AT ARUMUGANERI, TAMILNADU</td>\n",
       "      <td>TAMILNADU</td>\n",
       "    </tr>\n",
       "    <tr>\n",
       "      <th>424</th>\n",
       "      <td>1330</td>\n",
       "      <td>TAMBIRAPARANI AT ARUMUGANERI, TAMILNADU</td>\n",
       "      <td>TAMILNADU</td>\n",
       "    </tr>\n",
       "    <tr>\n",
       "      <th>677</th>\n",
       "      <td>1330</td>\n",
       "      <td>TAMBIRAPARANI AT ARUMUGANERI</td>\n",
       "      <td>TAMILNADU</td>\n",
       "    </tr>\n",
       "    <tr>\n",
       "      <th>1168</th>\n",
       "      <td>1330</td>\n",
       "      <td>TAMBIRAPARANI AT ARUMUGANERI</td>\n",
       "      <td>TAMILNADU</td>\n",
       "    </tr>\n",
       "    <tr>\n",
       "      <th>1351</th>\n",
       "      <td>1330</td>\n",
       "      <td>NaN</td>\n",
       "      <td>TAMBIRAPARANI AT ARUMUGANERI, TAMILNADU</td>\n",
       "    </tr>\n",
       "    <tr>\n",
       "      <th>1513</th>\n",
       "      <td>1330</td>\n",
       "      <td>TAMBIRAPARANI AT ARUMUGANERI, TAMILNADU</td>\n",
       "      <td>TAMILNADU</td>\n",
       "    </tr>\n",
       "    <tr>\n",
       "      <th>1626</th>\n",
       "      <td>1330</td>\n",
       "      <td>TAMBIRAPARANI AT ARUMUGANERI, TAMILNADU</td>\n",
       "      <td>TAMILNADU</td>\n",
       "    </tr>\n",
       "    <tr>\n",
       "      <th>1745</th>\n",
       "      <td>1330</td>\n",
       "      <td>TAMBIRAPARANI AT ARUMUGANERI, TAMILNADU</td>\n",
       "      <td>TAMILNADU</td>\n",
       "    </tr>\n",
       "    <tr>\n",
       "      <th>1986</th>\n",
       "      <td>1330</td>\n",
       "      <td>TAMBIRAPARANI AT ARUMUGANERI, TAMILNADU</td>\n",
       "      <td>TAMILNADU</td>\n",
       "    </tr>\n",
       "  </tbody>\n",
       "</table>\n",
       "</div>"
      ],
      "text/plain": [
       "     STATION CODE                                LOCATIONS  \\\n",
       "166          1330  TAMBIRAPARANI AT ARUMUGANERI, TAMILNADU   \n",
       "424          1330  TAMBIRAPARANI AT ARUMUGANERI, TAMILNADU   \n",
       "677          1330             TAMBIRAPARANI AT ARUMUGANERI   \n",
       "1168         1330             TAMBIRAPARANI AT ARUMUGANERI   \n",
       "1351         1330                                      NaN   \n",
       "1513         1330  TAMBIRAPARANI AT ARUMUGANERI, TAMILNADU   \n",
       "1626         1330  TAMBIRAPARANI AT ARUMUGANERI, TAMILNADU   \n",
       "1745         1330  TAMBIRAPARANI AT ARUMUGANERI, TAMILNADU   \n",
       "1986         1330  TAMBIRAPARANI AT ARUMUGANERI, TAMILNADU   \n",
       "\n",
       "                                        STATE  \n",
       "166                                 TAMILNADU  \n",
       "424                                 TAMILNADU  \n",
       "677                                 TAMILNADU  \n",
       "1168                                TAMILNADU  \n",
       "1351  TAMBIRAPARANI AT ARUMUGANERI, TAMILNADU  \n",
       "1513                                TAMILNADU  \n",
       "1626                                TAMILNADU  \n",
       "1745                                TAMILNADU  \n",
       "1986                                TAMILNADU  "
      ]
     },
     "execution_count": 28,
     "metadata": {},
     "output_type": "execute_result"
    }
   ],
   "source": [
    "pd.set_option('mode.chained_assignment', None)\n",
    "df_cat_copy = df_cat.copy()\n",
    "\n",
    "df_cat_copy[df_cat_copy[\"STATION CODE\"] == \"1330\"]\n",
    "df_cat_copy[\"STATE\"][df_cat_copy[\"STATION CODE\"] == \"1330\"] = df_cat_copy[\"STATE\"][df_cat_copy[\"STATION CODE\"] == \"1330\"].fillna(\"TAMILNADU\")\n",
    "\n",
    "df_cat_copy[df_cat_copy[\"STATION CODE\"] == \"1330\"]"
   ]
  },
  {
   "cell_type": "markdown",
   "id": "aeb8c268",
   "metadata": {},
   "source": [
    "- The NULL values in LOCATION attribute are in STATE attribute (ex - above dataframe)\n",
    "- So, I will fill the NULL values in LOCATION attribute with the corresponding STATE value\n",
    "- And, the state value will be replaced by the function \"fill_state\" defined below this cell"
   ]
  },
  {
   "cell_type": "code",
   "execution_count": 30,
   "id": "b6a9b10d",
   "metadata": {},
   "outputs": [],
   "source": [
    "def fill_locations(df_cat):\n",
    "    location_null = df_cat[df_cat[\"LOCATIONS\"].isnull()]\n",
    "    location_null_indices = location_null.index\n",
    "    for index in location_null_indices:\n",
    "        state_value = location_null[\"STATE\"][index]\n",
    "        location_null[\"LOCATIONS\"][index] = state_value\n",
    "        location_null[\"STATE\"][index] = np.nan\n",
    "    df_cat[df_cat[\"LOCATIONS\"].isnull()] = location_null\n",
    "    return"
   ]
  },
  {
   "cell_type": "code",
   "execution_count": 31,
   "id": "1f6e4ecf",
   "metadata": {},
   "outputs": [
    {
     "data": {
      "text/html": [
       "<div>\n",
       "<style scoped>\n",
       "    .dataframe tbody tr th:only-of-type {\n",
       "        vertical-align: middle;\n",
       "    }\n",
       "\n",
       "    .dataframe tbody tr th {\n",
       "        vertical-align: top;\n",
       "    }\n",
       "\n",
       "    .dataframe thead th {\n",
       "        text-align: right;\n",
       "    }\n",
       "</style>\n",
       "<table border=\"1\" class=\"dataframe\">\n",
       "  <thead>\n",
       "    <tr style=\"text-align: right;\">\n",
       "      <th></th>\n",
       "      <th>STATION CODE</th>\n",
       "      <th>LOCATIONS</th>\n",
       "      <th>STATE</th>\n",
       "    </tr>\n",
       "  </thead>\n",
       "  <tbody>\n",
       "    <tr>\n",
       "      <th>166</th>\n",
       "      <td>1330</td>\n",
       "      <td>TAMBIRAPARANI AT ARUMUGANERI, TAMILNADU</td>\n",
       "      <td>TAMILNADU</td>\n",
       "    </tr>\n",
       "    <tr>\n",
       "      <th>424</th>\n",
       "      <td>1330</td>\n",
       "      <td>TAMBIRAPARANI AT ARUMUGANERI, TAMILNADU</td>\n",
       "      <td>TAMILNADU</td>\n",
       "    </tr>\n",
       "    <tr>\n",
       "      <th>677</th>\n",
       "      <td>1330</td>\n",
       "      <td>TAMBIRAPARANI AT ARUMUGANERI</td>\n",
       "      <td>TAMILNADU</td>\n",
       "    </tr>\n",
       "    <tr>\n",
       "      <th>1168</th>\n",
       "      <td>1330</td>\n",
       "      <td>TAMBIRAPARANI AT ARUMUGANERI</td>\n",
       "      <td>TAMILNADU</td>\n",
       "    </tr>\n",
       "    <tr>\n",
       "      <th>1351</th>\n",
       "      <td>1330</td>\n",
       "      <td>TAMBIRAPARANI AT ARUMUGANERI, TAMILNADU</td>\n",
       "      <td>NaN</td>\n",
       "    </tr>\n",
       "    <tr>\n",
       "      <th>1513</th>\n",
       "      <td>1330</td>\n",
       "      <td>TAMBIRAPARANI AT ARUMUGANERI, TAMILNADU</td>\n",
       "      <td>TAMILNADU</td>\n",
       "    </tr>\n",
       "    <tr>\n",
       "      <th>1626</th>\n",
       "      <td>1330</td>\n",
       "      <td>TAMBIRAPARANI AT ARUMUGANERI, TAMILNADU</td>\n",
       "      <td>TAMILNADU</td>\n",
       "    </tr>\n",
       "    <tr>\n",
       "      <th>1745</th>\n",
       "      <td>1330</td>\n",
       "      <td>TAMBIRAPARANI AT ARUMUGANERI, TAMILNADU</td>\n",
       "      <td>TAMILNADU</td>\n",
       "    </tr>\n",
       "    <tr>\n",
       "      <th>1986</th>\n",
       "      <td>1330</td>\n",
       "      <td>TAMBIRAPARANI AT ARUMUGANERI, TAMILNADU</td>\n",
       "      <td>TAMILNADU</td>\n",
       "    </tr>\n",
       "  </tbody>\n",
       "</table>\n",
       "</div>"
      ],
      "text/plain": [
       "     STATION CODE                                LOCATIONS      STATE\n",
       "166          1330  TAMBIRAPARANI AT ARUMUGANERI, TAMILNADU  TAMILNADU\n",
       "424          1330  TAMBIRAPARANI AT ARUMUGANERI, TAMILNADU  TAMILNADU\n",
       "677          1330             TAMBIRAPARANI AT ARUMUGANERI  TAMILNADU\n",
       "1168         1330             TAMBIRAPARANI AT ARUMUGANERI  TAMILNADU\n",
       "1351         1330  TAMBIRAPARANI AT ARUMUGANERI, TAMILNADU        NaN\n",
       "1513         1330  TAMBIRAPARANI AT ARUMUGANERI, TAMILNADU  TAMILNADU\n",
       "1626         1330  TAMBIRAPARANI AT ARUMUGANERI, TAMILNADU  TAMILNADU\n",
       "1745         1330  TAMBIRAPARANI AT ARUMUGANERI, TAMILNADU  TAMILNADU\n",
       "1986         1330  TAMBIRAPARANI AT ARUMUGANERI, TAMILNADU  TAMILNADU"
      ]
     },
     "execution_count": 31,
     "metadata": {},
     "output_type": "execute_result"
    }
   ],
   "source": [
    "fill_locations(df_cat_copy)\n",
    "df_cat_copy[df_cat_copy[\"STATION CODE\"] == \"1330\"]"
   ]
  },
  {
   "cell_type": "code",
   "execution_count": 32,
   "id": "0e77a05c",
   "metadata": {},
   "outputs": [
    {
     "data": {
      "text/html": [
       "<div>\n",
       "<style scoped>\n",
       "    .dataframe tbody tr th:only-of-type {\n",
       "        vertical-align: middle;\n",
       "    }\n",
       "\n",
       "    .dataframe tbody tr th {\n",
       "        vertical-align: top;\n",
       "    }\n",
       "\n",
       "    .dataframe thead th {\n",
       "        text-align: right;\n",
       "    }\n",
       "</style>\n",
       "<table border=\"1\" class=\"dataframe\">\n",
       "  <thead>\n",
       "    <tr style=\"text-align: right;\">\n",
       "      <th></th>\n",
       "      <th>STATION CODE</th>\n",
       "      <th>LOCATIONS</th>\n",
       "      <th>STATE</th>\n",
       "    </tr>\n",
       "  </thead>\n",
       "  <tbody>\n",
       "    <tr>\n",
       "      <th>166</th>\n",
       "      <td>1330</td>\n",
       "      <td>TAMBIRAPARANI AT ARUMUGANERI, TAMILNADU</td>\n",
       "      <td>TAMILNADU</td>\n",
       "    </tr>\n",
       "    <tr>\n",
       "      <th>424</th>\n",
       "      <td>1330</td>\n",
       "      <td>TAMBIRAPARANI AT ARUMUGANERI, TAMILNADU</td>\n",
       "      <td>TAMILNADU</td>\n",
       "    </tr>\n",
       "    <tr>\n",
       "      <th>677</th>\n",
       "      <td>1330</td>\n",
       "      <td>TAMBIRAPARANI AT ARUMUGANERI</td>\n",
       "      <td>TAMILNADU</td>\n",
       "    </tr>\n",
       "    <tr>\n",
       "      <th>1168</th>\n",
       "      <td>1330</td>\n",
       "      <td>TAMBIRAPARANI AT ARUMUGANERI</td>\n",
       "      <td>TAMILNADU</td>\n",
       "    </tr>\n",
       "    <tr>\n",
       "      <th>1351</th>\n",
       "      <td>1330</td>\n",
       "      <td>TAMBIRAPARANI AT ARUMUGANERI, TAMILNADU</td>\n",
       "      <td>NaN</td>\n",
       "    </tr>\n",
       "    <tr>\n",
       "      <th>1513</th>\n",
       "      <td>1330</td>\n",
       "      <td>TAMBIRAPARANI AT ARUMUGANERI, TAMILNADU</td>\n",
       "      <td>TAMILNADU</td>\n",
       "    </tr>\n",
       "    <tr>\n",
       "      <th>1626</th>\n",
       "      <td>1330</td>\n",
       "      <td>TAMBIRAPARANI AT ARUMUGANERI, TAMILNADU</td>\n",
       "      <td>TAMILNADU</td>\n",
       "    </tr>\n",
       "    <tr>\n",
       "      <th>1745</th>\n",
       "      <td>1330</td>\n",
       "      <td>TAMBIRAPARANI AT ARUMUGANERI, TAMILNADU</td>\n",
       "      <td>TAMILNADU</td>\n",
       "    </tr>\n",
       "    <tr>\n",
       "      <th>1986</th>\n",
       "      <td>1330</td>\n",
       "      <td>TAMBIRAPARANI AT ARUMUGANERI, TAMILNADU</td>\n",
       "      <td>TAMILNADU</td>\n",
       "    </tr>\n",
       "  </tbody>\n",
       "</table>\n",
       "</div>"
      ],
      "text/plain": [
       "     STATION CODE                                LOCATIONS      STATE\n",
       "166          1330  TAMBIRAPARANI AT ARUMUGANERI, TAMILNADU  TAMILNADU\n",
       "424          1330  TAMBIRAPARANI AT ARUMUGANERI, TAMILNADU  TAMILNADU\n",
       "677          1330             TAMBIRAPARANI AT ARUMUGANERI  TAMILNADU\n",
       "1168         1330             TAMBIRAPARANI AT ARUMUGANERI  TAMILNADU\n",
       "1351         1330  TAMBIRAPARANI AT ARUMUGANERI, TAMILNADU        NaN\n",
       "1513         1330  TAMBIRAPARANI AT ARUMUGANERI, TAMILNADU  TAMILNADU\n",
       "1626         1330  TAMBIRAPARANI AT ARUMUGANERI, TAMILNADU  TAMILNADU\n",
       "1745         1330  TAMBIRAPARANI AT ARUMUGANERI, TAMILNADU  TAMILNADU\n",
       "1986         1330  TAMBIRAPARANI AT ARUMUGANERI, TAMILNADU  TAMILNADU"
      ]
     },
     "execution_count": 32,
     "metadata": {},
     "output_type": "execute_result"
    }
   ],
   "source": [
    "fill_locations(df_cat_copy)\n",
    "df_cat_copy[df_cat_copy[\"STATION CODE\"] == \"1330\"]"
   ]
  },
  {
   "cell_type": "code",
   "execution_count": 33,
   "id": "0a56dcaf",
   "metadata": {},
   "outputs": [
    {
     "data": {
      "text/html": [
       "<div>\n",
       "<style scoped>\n",
       "    .dataframe tbody tr th:only-of-type {\n",
       "        vertical-align: middle;\n",
       "    }\n",
       "\n",
       "    .dataframe tbody tr th {\n",
       "        vertical-align: top;\n",
       "    }\n",
       "\n",
       "    .dataframe thead th {\n",
       "        text-align: right;\n",
       "    }\n",
       "</style>\n",
       "<table border=\"1\" class=\"dataframe\">\n",
       "  <thead>\n",
       "    <tr style=\"text-align: right;\">\n",
       "      <th></th>\n",
       "      <th>STATION CODE</th>\n",
       "      <th>LOCATIONS</th>\n",
       "      <th>STATE</th>\n",
       "    </tr>\n",
       "  </thead>\n",
       "  <tbody>\n",
       "    <tr>\n",
       "      <th>166</th>\n",
       "      <td>1330</td>\n",
       "      <td>TAMBIRAPARANI AT ARUMUGANERI, TAMILNADU</td>\n",
       "      <td>TAMILNADU</td>\n",
       "    </tr>\n",
       "    <tr>\n",
       "      <th>424</th>\n",
       "      <td>1330</td>\n",
       "      <td>TAMBIRAPARANI AT ARUMUGANERI, TAMILNADU</td>\n",
       "      <td>TAMILNADU</td>\n",
       "    </tr>\n",
       "    <tr>\n",
       "      <th>1351</th>\n",
       "      <td>1330</td>\n",
       "      <td>TAMBIRAPARANI AT ARUMUGANERI, TAMILNADU</td>\n",
       "      <td>NaN</td>\n",
       "    </tr>\n",
       "    <tr>\n",
       "      <th>1513</th>\n",
       "      <td>1330</td>\n",
       "      <td>TAMBIRAPARANI AT ARUMUGANERI, TAMILNADU</td>\n",
       "      <td>TAMILNADU</td>\n",
       "    </tr>\n",
       "    <tr>\n",
       "      <th>1626</th>\n",
       "      <td>1330</td>\n",
       "      <td>TAMBIRAPARANI AT ARUMUGANERI, TAMILNADU</td>\n",
       "      <td>TAMILNADU</td>\n",
       "    </tr>\n",
       "    <tr>\n",
       "      <th>1745</th>\n",
       "      <td>1330</td>\n",
       "      <td>TAMBIRAPARANI AT ARUMUGANERI, TAMILNADU</td>\n",
       "      <td>TAMILNADU</td>\n",
       "    </tr>\n",
       "    <tr>\n",
       "      <th>1896</th>\n",
       "      <td>NaN</td>\n",
       "      <td>TAMBIRAPARANI AT ARUMUGANERI, TAMILNADU</td>\n",
       "      <td>NaN</td>\n",
       "    </tr>\n",
       "    <tr>\n",
       "      <th>1986</th>\n",
       "      <td>1330</td>\n",
       "      <td>TAMBIRAPARANI AT ARUMUGANERI, TAMILNADU</td>\n",
       "      <td>TAMILNADU</td>\n",
       "    </tr>\n",
       "  </tbody>\n",
       "</table>\n",
       "</div>"
      ],
      "text/plain": [
       "     STATION CODE                                LOCATIONS      STATE\n",
       "166          1330  TAMBIRAPARANI AT ARUMUGANERI, TAMILNADU  TAMILNADU\n",
       "424          1330  TAMBIRAPARANI AT ARUMUGANERI, TAMILNADU  TAMILNADU\n",
       "1351         1330  TAMBIRAPARANI AT ARUMUGANERI, TAMILNADU        NaN\n",
       "1513         1330  TAMBIRAPARANI AT ARUMUGANERI, TAMILNADU  TAMILNADU\n",
       "1626         1330  TAMBIRAPARANI AT ARUMUGANERI, TAMILNADU  TAMILNADU\n",
       "1745         1330  TAMBIRAPARANI AT ARUMUGANERI, TAMILNADU  TAMILNADU\n",
       "1896          NaN  TAMBIRAPARANI AT ARUMUGANERI, TAMILNADU        NaN\n",
       "1986         1330  TAMBIRAPARANI AT ARUMUGANERI, TAMILNADU  TAMILNADU"
      ]
     },
     "execution_count": 33,
     "metadata": {},
     "output_type": "execute_result"
    }
   ],
   "source": [
    "df_cat_copy[df_cat_copy[\"LOCATIONS\"] == \"TAMBIRAPARANI AT ARUMUGANERI, TAMILNADU\"]"
   ]
  },
  {
   "cell_type": "markdown",
   "id": "47c20d56",
   "metadata": {},
   "source": [
    "Now I can fill NULL values of Station code with corresponding LOCATION value(ex - above dataframe)\n",
    "- I will match the corresponding LOCATION value with other same LOCATION value and insert the value of station code"
   ]
  },
  {
   "cell_type": "code",
   "execution_count": 34,
   "id": "db5131d8",
   "metadata": {},
   "outputs": [
    {
     "data": {
      "text/html": [
       "<div>\n",
       "<style scoped>\n",
       "    .dataframe tbody tr th:only-of-type {\n",
       "        vertical-align: middle;\n",
       "    }\n",
       "\n",
       "    .dataframe tbody tr th {\n",
       "        vertical-align: top;\n",
       "    }\n",
       "\n",
       "    .dataframe thead th {\n",
       "        text-align: right;\n",
       "    }\n",
       "</style>\n",
       "<table border=\"1\" class=\"dataframe\">\n",
       "  <thead>\n",
       "    <tr style=\"text-align: right;\">\n",
       "      <th></th>\n",
       "      <th>STATION CODE</th>\n",
       "      <th>LOCATIONS</th>\n",
       "      <th>STATE</th>\n",
       "    </tr>\n",
       "  </thead>\n",
       "  <tbody>\n",
       "    <tr>\n",
       "      <th>166</th>\n",
       "      <td>1330</td>\n",
       "      <td>TAMBIRAPARANI AT ARUMUGANERI, TAMILNADU</td>\n",
       "      <td>TAMILNADU</td>\n",
       "    </tr>\n",
       "    <tr>\n",
       "      <th>424</th>\n",
       "      <td>1330</td>\n",
       "      <td>TAMBIRAPARANI AT ARUMUGANERI, TAMILNADU</td>\n",
       "      <td>TAMILNADU</td>\n",
       "    </tr>\n",
       "    <tr>\n",
       "      <th>1351</th>\n",
       "      <td>1330</td>\n",
       "      <td>TAMBIRAPARANI AT ARUMUGANERI, TAMILNADU</td>\n",
       "      <td>NaN</td>\n",
       "    </tr>\n",
       "    <tr>\n",
       "      <th>1513</th>\n",
       "      <td>1330</td>\n",
       "      <td>TAMBIRAPARANI AT ARUMUGANERI, TAMILNADU</td>\n",
       "      <td>TAMILNADU</td>\n",
       "    </tr>\n",
       "    <tr>\n",
       "      <th>1626</th>\n",
       "      <td>1330</td>\n",
       "      <td>TAMBIRAPARANI AT ARUMUGANERI, TAMILNADU</td>\n",
       "      <td>TAMILNADU</td>\n",
       "    </tr>\n",
       "    <tr>\n",
       "      <th>1745</th>\n",
       "      <td>1330</td>\n",
       "      <td>TAMBIRAPARANI AT ARUMUGANERI, TAMILNADU</td>\n",
       "      <td>TAMILNADU</td>\n",
       "    </tr>\n",
       "    <tr>\n",
       "      <th>1896</th>\n",
       "      <td>1330</td>\n",
       "      <td>TAMBIRAPARANI AT ARUMUGANERI, TAMILNADU</td>\n",
       "      <td>NaN</td>\n",
       "    </tr>\n",
       "    <tr>\n",
       "      <th>1986</th>\n",
       "      <td>1330</td>\n",
       "      <td>TAMBIRAPARANI AT ARUMUGANERI, TAMILNADU</td>\n",
       "      <td>TAMILNADU</td>\n",
       "    </tr>\n",
       "  </tbody>\n",
       "</table>\n",
       "</div>"
      ],
      "text/plain": [
       "     STATION CODE                                LOCATIONS      STATE\n",
       "166          1330  TAMBIRAPARANI AT ARUMUGANERI, TAMILNADU  TAMILNADU\n",
       "424          1330  TAMBIRAPARANI AT ARUMUGANERI, TAMILNADU  TAMILNADU\n",
       "1351         1330  TAMBIRAPARANI AT ARUMUGANERI, TAMILNADU        NaN\n",
       "1513         1330  TAMBIRAPARANI AT ARUMUGANERI, TAMILNADU  TAMILNADU\n",
       "1626         1330  TAMBIRAPARANI AT ARUMUGANERI, TAMILNADU  TAMILNADU\n",
       "1745         1330  TAMBIRAPARANI AT ARUMUGANERI, TAMILNADU  TAMILNADU\n",
       "1896         1330  TAMBIRAPARANI AT ARUMUGANERI, TAMILNADU        NaN\n",
       "1986         1330  TAMBIRAPARANI AT ARUMUGANERI, TAMILNADU  TAMILNADU"
      ]
     },
     "execution_count": 34,
     "metadata": {},
     "output_type": "execute_result"
    }
   ],
   "source": [
    "def fill_code(df_cat):\n",
    "    station_null = df_cat[df_cat[\"STATION CODE\"].isnull()]\n",
    "    station_null_indices = station_null.index\n",
    "    for index in station_null_indices:\n",
    "        stat_code = np.nan\n",
    "        location_index = station_null[\"LOCATIONS\"][index]\n",
    "        code_at_location = df_cat[\"STATION CODE\"][df_cat[\"LOCATIONS\"] == location_index]\n",
    "        for index_code in code_at_location.index:\n",
    "            if (code_at_location[index_code] != np.nan):\n",
    "                stat_code = code_at_location[index_code]\n",
    "                break\n",
    "        station_null[\"STATION CODE\"][index] = stat_code\n",
    "    df_cat[df_cat[\"STATION CODE\"].isnull()] = station_null\n",
    "    return\n",
    "\n",
    "fill_code(df_cat_copy)\n",
    "df_cat_copy[df_cat_copy[\"LOCATIONS\"] == \"TAMBIRAPARANI AT ARUMUGANERI, TAMILNADU\"]"
   ]
  },
  {
   "cell_type": "markdown",
   "id": "fd5151f2",
   "metadata": {},
   "source": [
    "Filling all state NAN values which have corresponding station code value"
   ]
  },
  {
   "cell_type": "code",
   "execution_count": 35,
   "id": "712bd24a",
   "metadata": {},
   "outputs": [
    {
     "data": {
      "text/html": [
       "<div>\n",
       "<style scoped>\n",
       "    .dataframe tbody tr th:only-of-type {\n",
       "        vertical-align: middle;\n",
       "    }\n",
       "\n",
       "    .dataframe tbody tr th {\n",
       "        vertical-align: top;\n",
       "    }\n",
       "\n",
       "    .dataframe thead th {\n",
       "        text-align: right;\n",
       "    }\n",
       "</style>\n",
       "<table border=\"1\" class=\"dataframe\">\n",
       "  <thead>\n",
       "    <tr style=\"text-align: right;\">\n",
       "      <th></th>\n",
       "      <th>STATION CODE</th>\n",
       "      <th>LOCATIONS</th>\n",
       "      <th>STATE</th>\n",
       "    </tr>\n",
       "  </thead>\n",
       "  <tbody>\n",
       "    <tr>\n",
       "      <th>166</th>\n",
       "      <td>1330</td>\n",
       "      <td>TAMBIRAPARANI AT ARUMUGANERI, TAMILNADU</td>\n",
       "      <td>TAMILNADU</td>\n",
       "    </tr>\n",
       "    <tr>\n",
       "      <th>424</th>\n",
       "      <td>1330</td>\n",
       "      <td>TAMBIRAPARANI AT ARUMUGANERI, TAMILNADU</td>\n",
       "      <td>TAMILNADU</td>\n",
       "    </tr>\n",
       "    <tr>\n",
       "      <th>677</th>\n",
       "      <td>1330</td>\n",
       "      <td>TAMBIRAPARANI AT ARUMUGANERI</td>\n",
       "      <td>TAMILNADU</td>\n",
       "    </tr>\n",
       "    <tr>\n",
       "      <th>1168</th>\n",
       "      <td>1330</td>\n",
       "      <td>TAMBIRAPARANI AT ARUMUGANERI</td>\n",
       "      <td>TAMILNADU</td>\n",
       "    </tr>\n",
       "    <tr>\n",
       "      <th>1351</th>\n",
       "      <td>1330</td>\n",
       "      <td>TAMBIRAPARANI AT ARUMUGANERI, TAMILNADU</td>\n",
       "      <td>TAMILNADU</td>\n",
       "    </tr>\n",
       "    <tr>\n",
       "      <th>1513</th>\n",
       "      <td>1330</td>\n",
       "      <td>TAMBIRAPARANI AT ARUMUGANERI, TAMILNADU</td>\n",
       "      <td>TAMILNADU</td>\n",
       "    </tr>\n",
       "    <tr>\n",
       "      <th>1626</th>\n",
       "      <td>1330</td>\n",
       "      <td>TAMBIRAPARANI AT ARUMUGANERI, TAMILNADU</td>\n",
       "      <td>TAMILNADU</td>\n",
       "    </tr>\n",
       "    <tr>\n",
       "      <th>1745</th>\n",
       "      <td>1330</td>\n",
       "      <td>TAMBIRAPARANI AT ARUMUGANERI, TAMILNADU</td>\n",
       "      <td>TAMILNADU</td>\n",
       "    </tr>\n",
       "    <tr>\n",
       "      <th>1896</th>\n",
       "      <td>1330</td>\n",
       "      <td>TAMBIRAPARANI AT ARUMUGANERI, TAMILNADU</td>\n",
       "      <td>TAMILNADU</td>\n",
       "    </tr>\n",
       "    <tr>\n",
       "      <th>1986</th>\n",
       "      <td>1330</td>\n",
       "      <td>TAMBIRAPARANI AT ARUMUGANERI, TAMILNADU</td>\n",
       "      <td>TAMILNADU</td>\n",
       "    </tr>\n",
       "  </tbody>\n",
       "</table>\n",
       "</div>"
      ],
      "text/plain": [
       "     STATION CODE                                LOCATIONS      STATE\n",
       "166          1330  TAMBIRAPARANI AT ARUMUGANERI, TAMILNADU  TAMILNADU\n",
       "424          1330  TAMBIRAPARANI AT ARUMUGANERI, TAMILNADU  TAMILNADU\n",
       "677          1330             TAMBIRAPARANI AT ARUMUGANERI  TAMILNADU\n",
       "1168         1330             TAMBIRAPARANI AT ARUMUGANERI  TAMILNADU\n",
       "1351         1330  TAMBIRAPARANI AT ARUMUGANERI, TAMILNADU  TAMILNADU\n",
       "1513         1330  TAMBIRAPARANI AT ARUMUGANERI, TAMILNADU  TAMILNADU\n",
       "1626         1330  TAMBIRAPARANI AT ARUMUGANERI, TAMILNADU  TAMILNADU\n",
       "1745         1330  TAMBIRAPARANI AT ARUMUGANERI, TAMILNADU  TAMILNADU\n",
       "1896         1330  TAMBIRAPARANI AT ARUMUGANERI, TAMILNADU  TAMILNADU\n",
       "1986         1330  TAMBIRAPARANI AT ARUMUGANERI, TAMILNADU  TAMILNADU"
      ]
     },
     "execution_count": 35,
     "metadata": {},
     "output_type": "execute_result"
    }
   ],
   "source": [
    "def fill_state(df_cat):\n",
    "    station_code = df_cat[\"STATION CODE\"].unique()\n",
    "    for index in range(station_code.shape[0]):\n",
    "        if (station_code[index] != np.nan):\n",
    "            df_state = df_cat[\"STATE\"][df_cat[\"STATION CODE\"] == station_code[index]] \n",
    "            state_values = df_cat[\"STATE\"][df_cat[\"STATION CODE\"] == station_code[index]]\n",
    "            state = np.nan\n",
    "            for index_state in range(state_values.shape[0]):\n",
    "                if (state_values.iloc[index_state] != np.nan):\n",
    "                    state = state_values.iloc[index_state]\n",
    "                    break\n",
    "            df_state_fill = df_state.fillna(state) \n",
    "            df_cat[\"STATE\"][df_cat[\"STATION CODE\"] == station_code[index]] = df_state_fill\n",
    "    return\n",
    "fill_state(df_cat_copy)\n",
    "df_cat_copy[df_cat_copy[\"STATION CODE\"] == \"1330\"]"
   ]
  },
  {
   "cell_type": "code",
   "execution_count": 36,
   "id": "61213c81",
   "metadata": {},
   "outputs": [
    {
     "data": {
      "text/plain": [
       "STATION CODE     5\n",
       "LOCATIONS        3\n",
       "STATE           13\n",
       "dtype: int64"
      ]
     },
     "execution_count": 36,
     "metadata": {},
     "output_type": "execute_result"
    }
   ],
   "source": [
    "df_cat_copy.isnull().sum()"
   ]
  },
  {
   "cell_type": "code",
   "execution_count": 37,
   "id": "4ceecea1",
   "metadata": {},
   "outputs": [
    {
     "data": {
      "text/html": [
       "<div>\n",
       "<style scoped>\n",
       "    .dataframe tbody tr th:only-of-type {\n",
       "        vertical-align: middle;\n",
       "    }\n",
       "\n",
       "    .dataframe tbody tr th {\n",
       "        vertical-align: top;\n",
       "    }\n",
       "\n",
       "    .dataframe thead th {\n",
       "        text-align: right;\n",
       "    }\n",
       "</style>\n",
       "<table border=\"1\" class=\"dataframe\">\n",
       "  <thead>\n",
       "    <tr style=\"text-align: right;\">\n",
       "      <th></th>\n",
       "      <th>STATION CODE</th>\n",
       "      <th>LOCATIONS</th>\n",
       "      <th>STATE</th>\n",
       "    </tr>\n",
       "  </thead>\n",
       "  <tbody>\n",
       "    <tr>\n",
       "      <th>260</th>\n",
       "      <td>NaN</td>\n",
       "      <td>NaN</td>\n",
       "      <td>NaN</td>\n",
       "    </tr>\n",
       "    <tr>\n",
       "      <th>431</th>\n",
       "      <td>NaN</td>\n",
       "      <td>NaN</td>\n",
       "      <td>NaN</td>\n",
       "    </tr>\n",
       "    <tr>\n",
       "      <th>1106</th>\n",
       "      <td>1207</td>\n",
       "      <td>KABBANI AT MUTHANKARA</td>\n",
       "      <td>NaN</td>\n",
       "    </tr>\n",
       "    <tr>\n",
       "      <th>1107</th>\n",
       "      <td>1208</td>\n",
       "      <td>BHAVANI AT ELACHIVAZHY</td>\n",
       "      <td>NaN</td>\n",
       "    </tr>\n",
       "    <tr>\n",
       "      <th>1650</th>\n",
       "      <td>2047</td>\n",
       "      <td>NNANCHOE (ATTAWA CHOE), CHANDIGARH</td>\n",
       "      <td>NaN</td>\n",
       "    </tr>\n",
       "    <tr>\n",
       "      <th>1651</th>\n",
       "      <td>2048</td>\n",
       "      <td>PATIALA KI RAO, CHANDIGARH</td>\n",
       "      <td>NaN</td>\n",
       "    </tr>\n",
       "    <tr>\n",
       "      <th>1652</th>\n",
       "      <td>2049</td>\n",
       "      <td>SUKHNA CHOE, CHANDIGARH</td>\n",
       "      <td>NaN</td>\n",
       "    </tr>\n",
       "    <tr>\n",
       "      <th>1770</th>\n",
       "      <td>2047</td>\n",
       "      <td>NNANCHOE (ATTAWA CHOE)</td>\n",
       "      <td>NaN</td>\n",
       "    </tr>\n",
       "    <tr>\n",
       "      <th>1771</th>\n",
       "      <td>2048</td>\n",
       "      <td>PATIALA KI RAO</td>\n",
       "      <td>NaN</td>\n",
       "    </tr>\n",
       "    <tr>\n",
       "      <th>1772</th>\n",
       "      <td>2049</td>\n",
       "      <td>SUKHNA CHOE</td>\n",
       "      <td>NaN</td>\n",
       "    </tr>\n",
       "    <tr>\n",
       "      <th>1784</th>\n",
       "      <td>NaN</td>\n",
       "      <td>DAMANGANGA  AFTER CONFL. OF PIPARIA DRAIN, DAMAN</td>\n",
       "      <td>NaN</td>\n",
       "    </tr>\n",
       "    <tr>\n",
       "      <th>1785</th>\n",
       "      <td>NaN</td>\n",
       "      <td>DAMANGANGA AT CIRCUIT HOUSE, SILVASA, DADRA AN...</td>\n",
       "      <td>NaN</td>\n",
       "    </tr>\n",
       "    <tr>\n",
       "      <th>1912</th>\n",
       "      <td>NaN</td>\n",
       "      <td>NaN</td>\n",
       "      <td>NaN</td>\n",
       "    </tr>\n",
       "  </tbody>\n",
       "</table>\n",
       "</div>"
      ],
      "text/plain": [
       "     STATION CODE                                          LOCATIONS STATE\n",
       "260           NaN                                                NaN   NaN\n",
       "431           NaN                                                NaN   NaN\n",
       "1106         1207                              KABBANI AT MUTHANKARA   NaN\n",
       "1107         1208                             BHAVANI AT ELACHIVAZHY   NaN\n",
       "1650         2047                 NNANCHOE (ATTAWA CHOE), CHANDIGARH   NaN\n",
       "1651         2048                         PATIALA KI RAO, CHANDIGARH   NaN\n",
       "1652         2049                            SUKHNA CHOE, CHANDIGARH   NaN\n",
       "1770         2047                             NNANCHOE (ATTAWA CHOE)   NaN\n",
       "1771         2048                                     PATIALA KI RAO   NaN\n",
       "1772         2049                                        SUKHNA CHOE   NaN\n",
       "1784          NaN   DAMANGANGA  AFTER CONFL. OF PIPARIA DRAIN, DAMAN   NaN\n",
       "1785          NaN  DAMANGANGA AT CIRCUIT HOUSE, SILVASA, DADRA AN...   NaN\n",
       "1912          NaN                                                NaN   NaN"
      ]
     },
     "execution_count": 37,
     "metadata": {},
     "output_type": "execute_result"
    }
   ],
   "source": [
    "df_cat_copy[df_cat_copy[\"STATE\"].isnull()]"
   ]
  },
  {
   "cell_type": "markdown",
   "id": "eb0a4aa4",
   "metadata": {},
   "source": [
    "- The above are the missing values which are left and does not satisfy any condition\n",
    "- So, according to the location these values will be filled manually"
   ]
  },
  {
   "cell_type": "markdown",
   "id": "934c3416",
   "metadata": {},
   "source": [
    "The first location KABBANI AT MUTHANKARA is in STATE Kerela"
   ]
  },
  {
   "cell_type": "code",
   "execution_count": 38,
   "id": "65a8251a",
   "metadata": {},
   "outputs": [],
   "source": [
    "df_cat_copy[\"STATE\"][1106] = \"KERALA\"\n",
    "df_cat_copy[\"STATE\"][1107] = \"KERALA\"\n",
    "df_cat_copy[\"STATE\"][1650] = \"CHANDIGARH\"\n",
    "df_cat_copy[\"STATE\"][1651] = \"CHANDIGARH\"\n",
    "df_cat_copy[\"STATE\"][1652] = \"CHANDIGARH\"\n",
    "df_cat_copy[\"STATE\"][1770] = \"CHANDIGARH\"\n",
    "df_cat_copy[\"STATE\"][1771] = \"CHANDIGARH\"\n",
    "df_cat_copy[\"STATE\"][1772] = \"CHANDIGARH\"\n",
    "df_cat_copy[\"STATE\"][1784] = \"DAMAN & DIU\"\n",
    "df_cat_copy[\"STATE\"][1785] = \"DAMAN & DIU\"\n",
    "df_cat_copy[\"STATION CODE\"][1784] = \"0000\"\n",
    "df_cat_copy[\"STATION CODE\"][1785] = \"0000\""
   ]
  },
  {
   "cell_type": "code",
   "execution_count": 39,
   "id": "532cfcf3",
   "metadata": {},
   "outputs": [
    {
     "data": {
      "text/plain": [
       "STATION CODE    3\n",
       "LOCATIONS       3\n",
       "STATE           3\n",
       "dtype: int64"
      ]
     },
     "execution_count": 39,
     "metadata": {},
     "output_type": "execute_result"
    }
   ],
   "source": [
    "df_cat = df_cat_copy\n",
    "df_cat.isnull().sum()"
   ]
  },
  {
   "cell_type": "code",
   "execution_count": 40,
   "id": "38b2c1f3",
   "metadata": {},
   "outputs": [
    {
     "data": {
      "text/plain": [
       "Temp            0\n",
       "DO              0\n",
       "PH              0\n",
       "Conductivity    0\n",
       "BOD             0\n",
       "NI              0\n",
       "Fec_col         0\n",
       "Tot_col         0\n",
       "year            0\n",
       "dtype: int64"
      ]
     },
     "execution_count": 40,
     "metadata": {},
     "output_type": "execute_result"
    }
   ],
   "source": [
    "df_num.isnull().sum()"
   ]
  },
  {
   "cell_type": "code",
   "execution_count": 41,
   "id": "1f9f6cbb",
   "metadata": {},
   "outputs": [
    {
     "data": {
      "text/plain": [
       "STATION CODE    3\n",
       "LOCATIONS       3\n",
       "STATE           3\n",
       "Temp            0\n",
       "DO              0\n",
       "PH              0\n",
       "Conductivity    0\n",
       "BOD             0\n",
       "NI              0\n",
       "Fec_col         0\n",
       "Tot_col         0\n",
       "year            0\n",
       "dtype: int64"
      ]
     },
     "execution_count": 41,
     "metadata": {},
     "output_type": "execute_result"
    }
   ],
   "source": [
    "df_final = pd.concat([df_cat, df_num], axis=1)\n",
    "df_final.isnull().sum()"
   ]
  },
  {
   "cell_type": "markdown",
   "id": "f935597f",
   "metadata": {},
   "source": [
    "- These are the samples which don't contain any attribute\n",
    "- The filled attributes are median of corresponding columns\n",
    "- So it is best to remove them"
   ]
  },
  {
   "cell_type": "code",
   "execution_count": 42,
   "id": "481d721f",
   "metadata": {},
   "outputs": [
    {
     "data": {
      "text/html": [
       "<div>\n",
       "<style scoped>\n",
       "    .dataframe tbody tr th:only-of-type {\n",
       "        vertical-align: middle;\n",
       "    }\n",
       "\n",
       "    .dataframe tbody tr th {\n",
       "        vertical-align: top;\n",
       "    }\n",
       "\n",
       "    .dataframe thead th {\n",
       "        text-align: right;\n",
       "    }\n",
       "</style>\n",
       "<table border=\"1\" class=\"dataframe\">\n",
       "  <thead>\n",
       "    <tr style=\"text-align: right;\">\n",
       "      <th></th>\n",
       "      <th>STATION CODE</th>\n",
       "      <th>LOCATIONS</th>\n",
       "      <th>STATE</th>\n",
       "      <th>Temp</th>\n",
       "      <th>DO</th>\n",
       "      <th>PH</th>\n",
       "      <th>Conductivity</th>\n",
       "      <th>BOD</th>\n",
       "      <th>NI</th>\n",
       "      <th>Fec_col</th>\n",
       "      <th>Tot_col</th>\n",
       "      <th>year</th>\n",
       "    </tr>\n",
       "  </thead>\n",
       "  <tbody>\n",
       "    <tr>\n",
       "      <th>260</th>\n",
       "      <td>NaN</td>\n",
       "      <td>NaN</td>\n",
       "      <td>NaN</td>\n",
       "      <td>27.0</td>\n",
       "      <td>6.7</td>\n",
       "      <td>7.3</td>\n",
       "      <td>183.0</td>\n",
       "      <td>1.8965</td>\n",
       "      <td>0.516</td>\n",
       "      <td>221.0</td>\n",
       "      <td>468.0</td>\n",
       "      <td>2013.0</td>\n",
       "    </tr>\n",
       "    <tr>\n",
       "      <th>431</th>\n",
       "      <td>NaN</td>\n",
       "      <td>NaN</td>\n",
       "      <td>NaN</td>\n",
       "      <td>27.0</td>\n",
       "      <td>6.7</td>\n",
       "      <td>7.3</td>\n",
       "      <td>183.0</td>\n",
       "      <td>1.8965</td>\n",
       "      <td>0.516</td>\n",
       "      <td>221.0</td>\n",
       "      <td>468.0</td>\n",
       "      <td>2013.0</td>\n",
       "    </tr>\n",
       "    <tr>\n",
       "      <th>1912</th>\n",
       "      <td>NaN</td>\n",
       "      <td>NaN</td>\n",
       "      <td>NaN</td>\n",
       "      <td>27.0</td>\n",
       "      <td>6.7</td>\n",
       "      <td>7.3</td>\n",
       "      <td>183.0</td>\n",
       "      <td>1.8965</td>\n",
       "      <td>0.516</td>\n",
       "      <td>221.0</td>\n",
       "      <td>468.0</td>\n",
       "      <td>2003.0</td>\n",
       "    </tr>\n",
       "  </tbody>\n",
       "</table>\n",
       "</div>"
      ],
      "text/plain": [
       "     STATION CODE LOCATIONS STATE  Temp   DO   PH  Conductivity     BOD  \\\n",
       "260           NaN       NaN   NaN  27.0  6.7  7.3         183.0  1.8965   \n",
       "431           NaN       NaN   NaN  27.0  6.7  7.3         183.0  1.8965   \n",
       "1912          NaN       NaN   NaN  27.0  6.7  7.3         183.0  1.8965   \n",
       "\n",
       "         NI  Fec_col  Tot_col    year  \n",
       "260   0.516    221.0    468.0  2013.0  \n",
       "431   0.516    221.0    468.0  2013.0  \n",
       "1912  0.516    221.0    468.0  2003.0  "
      ]
     },
     "execution_count": 42,
     "metadata": {},
     "output_type": "execute_result"
    }
   ],
   "source": [
    "df_null = df_final[(df_final[\"STATION CODE\"].isnull()) & (df_final[\"LOCATIONS\"].isnull()) & (df_final[\"STATE\"].isnull())]\n",
    "df_null_indices = df_null.index\n",
    "df_final.drop(df_null_indices, axis=0, inplace=True)\n",
    "df_null"
   ]
  },
  {
   "cell_type": "code",
   "execution_count": 44,
   "id": "95ab04a2",
   "metadata": {},
   "outputs": [
    {
     "data": {
      "text/plain": [
       "STATION CODE    0\n",
       "LOCATIONS       0\n",
       "STATE           0\n",
       "Temp            0\n",
       "DO              0\n",
       "PH              0\n",
       "Conductivity    0\n",
       "BOD             0\n",
       "NI              0\n",
       "Fec_col         0\n",
       "Tot_col         0\n",
       "year            0\n",
       "dtype: int64"
      ]
     },
     "execution_count": 44,
     "metadata": {},
     "output_type": "execute_result"
    }
   ],
   "source": [
    "df_final.isnull().sum()"
   ]
  },
  {
   "cell_type": "code",
   "execution_count": 45,
   "id": "eddaafb3",
   "metadata": {},
   "outputs": [
    {
     "data": {
      "text/plain": [
       "(1988, 12)"
      ]
     },
     "execution_count": 45,
     "metadata": {},
     "output_type": "execute_result"
    }
   ],
   "source": [
    "df_final.shape"
   ]
  },
  {
   "cell_type": "markdown",
   "id": "e1cafba7",
   "metadata": {},
   "source": [
    "The final dataset contains 1898 samples and 12 attributes"
   ]
  },
  {
   "cell_type": "markdown",
   "id": "cf356acc",
   "metadata": {},
   "source": [
    "Plotting PDFs of all the numeric attributes in the dataset"
   ]
  },
  {
   "cell_type": "code",
   "execution_count": 46,
   "id": "ee4d5f68",
   "metadata": {},
   "outputs": [
    {
     "data": {
      "image/png": "[encoded data removed]",
      "text/plain": [
       "<Figure size 504x360 with 1 Axes>"
      ]
     },
     "metadata": {
      "needs_background": "light"
     },
     "output_type": "display_data"
    },
    {
     "data": {
      "image/png": "[encoded data removed]",
      "text/plain": [
       "<Figure size 504x360 with 1 Axes>"
      ]
     },
     "metadata": {
      "needs_background": "light"
     },
     "output_type": "display_data"
    },
    {
     "data": {
      "image/png": "[encoded data removed]",
      "text/plain": [
       "<Figure size 504x360 with 1 Axes>"
      ]
     },
     "metadata": {
      "needs_background": "light"
     },
     "output_type": "display_data"
    },
    {
     "data": {
      "image/png": "[encoded data removed]",
      "text/plain": [
       "<Figure size 504x360 with 1 Axes>"
      ]
     },
     "metadata": {
      "needs_background": "light"
     },
     "output_type": "display_data"
    },
    {
     "data": {
      "image/png": "[encoded data removed]",
      "text/plain": [
       "<Figure size 504x360 with 1 Axes>"
      ]
     },
     "metadata": {
      "needs_background": "light"
     },
     "output_type": "display_data"
    },
    {
     "data": {
      "image/png": "[encoded data removed]",
      "text/plain": [
       "<Figure size 504x360 with 1 Axes>"
      ]
     },
     "metadata": {
      "needs_background": "light"
     },
     "output_type": "display_data"
    },
    {
     "data": {
      "image/png": "[encoded data removed]",
      "text/plain": [
       "<Figure size 504x360 with 1 Axes>"
      ]
     },
     "metadata": {
      "needs_background": "light"
     },
     "output_type": "display_data"
    },
    {
     "data": {
      "image/png": "[encoded data removed]",
      "text/plain": [
       "<Figure size 504x360 with 1 Axes>"
      ]
     },
     "metadata": {
      "needs_background": "light"
     },
     "output_type": "display_data"
    },
    {
     "data": {
      "image/png": "[encoded data removed]",
      "text/plain": [
       "<Figure size 504x360 with 1 Axes>"
      ]
     },
     "metadata": {
      "needs_background": "light"
     },
     "output_type": "display_data"
    }
   ],
   "source": [
    "df_num_final = df_final.select_dtypes(exclude=\"object\")\n",
    "\n",
    "def plot_kde(df):\n",
    "    n_col = df.shape[1]\n",
    "    for index in range(n_col):\n",
    "        col_index = df.iloc[:, index]\n",
    "        fig, ax = plt.subplots(1,1, figsize=(7, 5))\n",
    "        sns.kdeplot(data=df, x=col_index.name)\n",
    "        \n",
    "plot_kde(df_num_final)"
   ]
  },
  {
   "cell_type": "markdown",
   "id": "82e08424",
   "metadata": {},
   "source": [
    "### Outliers detection"
   ]
  },
  {
   "cell_type": "markdown",
   "id": "b5f5236e",
   "metadata": {},
   "source": [
    "- Using Z-Score Normalization to detect outliers"
   ]
  },
  {
   "cell_type": "code",
   "execution_count": 47,
   "id": "2b2422b4",
   "metadata": {},
   "outputs": [
    {
     "name": "stdout",
     "output_type": "stream",
     "text": [
      "Number of outliers using Z-Score method- 139\n"
     ]
    },
    {
     "data": {
      "text/html": [
       "<div>\n",
       "<style scoped>\n",
       "    .dataframe tbody tr th:only-of-type {\n",
       "        vertical-align: middle;\n",
       "    }\n",
       "\n",
       "    .dataframe tbody tr th {\n",
       "        vertical-align: top;\n",
       "    }\n",
       "\n",
       "    .dataframe thead th {\n",
       "        text-align: right;\n",
       "    }\n",
       "</style>\n",
       "<table border=\"1\" class=\"dataframe\">\n",
       "  <thead>\n",
       "    <tr style=\"text-align: right;\">\n",
       "      <th></th>\n",
       "      <th>STATION CODE</th>\n",
       "      <th>LOCATIONS</th>\n",
       "      <th>STATE</th>\n",
       "      <th>Temp</th>\n",
       "      <th>DO</th>\n",
       "      <th>PH</th>\n",
       "      <th>Conductivity</th>\n",
       "      <th>BOD</th>\n",
       "      <th>NI</th>\n",
       "      <th>Fec_col</th>\n",
       "      <th>Tot_col</th>\n",
       "      <th>year</th>\n",
       "    </tr>\n",
       "  </thead>\n",
       "  <tbody>\n",
       "    <tr>\n",
       "      <th>741</th>\n",
       "      <td>2880</td>\n",
       "      <td>NAMBUL RIVER AT BISHNUPUR</td>\n",
       "      <td>MANIPUR</td>\n",
       "      <td>28.0</td>\n",
       "      <td>8.2</td>\n",
       "      <td>7.6</td>\n",
       "      <td>112.0</td>\n",
       "      <td>2.1</td>\n",
       "      <td>0.516</td>\n",
       "      <td>221.0</td>\n",
       "      <td>31.0</td>\n",
       "      <td>2012.0</td>\n",
       "    </tr>\n",
       "    <tr>\n",
       "      <th>745</th>\n",
       "      <td>2856</td>\n",
       "      <td>THOUBAL RIVER AT YAIRIPOK, THOUBAL</td>\n",
       "      <td>MANIPUR</td>\n",
       "      <td>30.0</td>\n",
       "      <td>9.3</td>\n",
       "      <td>7.6</td>\n",
       "      <td>193.0</td>\n",
       "      <td>2.3</td>\n",
       "      <td>0.516</td>\n",
       "      <td>221.0</td>\n",
       "      <td>41.0</td>\n",
       "      <td>2012.0</td>\n",
       "    </tr>\n",
       "    <tr>\n",
       "      <th>1917</th>\n",
       "      <td>1862</td>\n",
       "      <td>RIVER KAVERI ON BRIDGE AT BILLIMORANANVALSAD ROAD</td>\n",
       "      <td>GUJARAT</td>\n",
       "      <td>29.0</td>\n",
       "      <td>8.1</td>\n",
       "      <td>467.0</td>\n",
       "      <td>7.1</td>\n",
       "      <td>3.0</td>\n",
       "      <td>0.516</td>\n",
       "      <td>221.0</td>\n",
       "      <td>107.0</td>\n",
       "      <td>2003.0</td>\n",
       "    </tr>\n",
       "    <tr>\n",
       "      <th>1924</th>\n",
       "      <td>1438</td>\n",
       "      <td>MINDHOLA AT STATE HIGHWAY BRIDGE SACHIN, GUJARAT</td>\n",
       "      <td>GUJARAT</td>\n",
       "      <td>28.0</td>\n",
       "      <td>8.0</td>\n",
       "      <td>590.0</td>\n",
       "      <td>4.8</td>\n",
       "      <td>1.8</td>\n",
       "      <td>0.516</td>\n",
       "      <td>221.0</td>\n",
       "      <td>2873.0</td>\n",
       "      <td>2003.0</td>\n",
       "    </tr>\n",
       "    <tr>\n",
       "      <th>1925</th>\n",
       "      <td>1444</td>\n",
       "      <td>KALI AT D/S WEST COAST PAPER MILL, KARNATAKA</td>\n",
       "      <td>KARNATAKA</td>\n",
       "      <td>27.0</td>\n",
       "      <td>7.7</td>\n",
       "      <td>440.0</td>\n",
       "      <td>6.5</td>\n",
       "      <td>2.4</td>\n",
       "      <td>0.900</td>\n",
       "      <td>0.9</td>\n",
       "      <td>688.0</td>\n",
       "      <td>2003.0</td>\n",
       "    </tr>\n",
       "    <tr>\n",
       "      <th>...</th>\n",
       "      <td>...</td>\n",
       "      <td>...</td>\n",
       "      <td>...</td>\n",
       "      <td>...</td>\n",
       "      <td>...</td>\n",
       "      <td>...</td>\n",
       "      <td>...</td>\n",
       "      <td>...</td>\n",
       "      <td>...</td>\n",
       "      <td>...</td>\n",
       "      <td>...</td>\n",
       "      <td>...</td>\n",
       "    </tr>\n",
       "    <tr>\n",
       "      <th>432</th>\n",
       "      <td>1023</td>\n",
       "      <td>GHAGGAR AT MUBARAKPUR REST HOUSE (PATIALA), PU...</td>\n",
       "      <td>PUNJAB</td>\n",
       "      <td>23.3</td>\n",
       "      <td>5.5</td>\n",
       "      <td>7.2</td>\n",
       "      <td>636.0</td>\n",
       "      <td>9.7</td>\n",
       "      <td>4.000</td>\n",
       "      <td>1328.0</td>\n",
       "      <td>4975.0</td>\n",
       "      <td>2013.0</td>\n",
       "    </tr>\n",
       "    <tr>\n",
       "      <th>685</th>\n",
       "      <td>1023</td>\n",
       "      <td>GHAGGAR AT MUBARAKPUR REST HOUSE (PATIALA)</td>\n",
       "      <td>PUNJAB</td>\n",
       "      <td>21.0</td>\n",
       "      <td>5.5</td>\n",
       "      <td>7.4</td>\n",
       "      <td>635.0</td>\n",
       "      <td>8.8</td>\n",
       "      <td>5.080</td>\n",
       "      <td>1400.0</td>\n",
       "      <td>5500.0</td>\n",
       "      <td>2012.0</td>\n",
       "    </tr>\n",
       "    <tr>\n",
       "      <th>172</th>\n",
       "      <td>3023</td>\n",
       "      <td>VASISTA AT SALEM, D/S OF SAGO INDUSRIES EFFLUE...</td>\n",
       "      <td>TAMILNADU</td>\n",
       "      <td>24.3</td>\n",
       "      <td>0.9</td>\n",
       "      <td>7.6</td>\n",
       "      <td>2039.0</td>\n",
       "      <td>104.5</td>\n",
       "      <td>0.900</td>\n",
       "      <td>272521616.0</td>\n",
       "      <td>511090873.0</td>\n",
       "      <td>2014.0</td>\n",
       "    </tr>\n",
       "    <tr>\n",
       "      <th>432</th>\n",
       "      <td>1023</td>\n",
       "      <td>GHAGGAR AT MUBARAKPUR REST HOUSE (PATIALA), PU...</td>\n",
       "      <td>PUNJAB</td>\n",
       "      <td>23.3</td>\n",
       "      <td>5.5</td>\n",
       "      <td>7.2</td>\n",
       "      <td>636.0</td>\n",
       "      <td>9.7</td>\n",
       "      <td>4.000</td>\n",
       "      <td>1328.0</td>\n",
       "      <td>4975.0</td>\n",
       "      <td>2013.0</td>\n",
       "    </tr>\n",
       "    <tr>\n",
       "      <th>685</th>\n",
       "      <td>1023</td>\n",
       "      <td>GHAGGAR AT MUBARAKPUR REST HOUSE (PATIALA)</td>\n",
       "      <td>PUNJAB</td>\n",
       "      <td>21.0</td>\n",
       "      <td>5.5</td>\n",
       "      <td>7.4</td>\n",
       "      <td>635.0</td>\n",
       "      <td>8.8</td>\n",
       "      <td>5.080</td>\n",
       "      <td>1400.0</td>\n",
       "      <td>5500.0</td>\n",
       "      <td>2012.0</td>\n",
       "    </tr>\n",
       "  </tbody>\n",
       "</table>\n",
       "<p>139 rows × 12 columns</p>\n",
       "</div>"
      ],
      "text/plain": [
       "     STATION CODE                                          LOCATIONS  \\\n",
       "741          2880                          NAMBUL RIVER AT BISHNUPUR   \n",
       "745          2856                 THOUBAL RIVER AT YAIRIPOK, THOUBAL   \n",
       "1917         1862  RIVER KAVERI ON BRIDGE AT BILLIMORANANVALSAD ROAD   \n",
       "1924         1438   MINDHOLA AT STATE HIGHWAY BRIDGE SACHIN, GUJARAT   \n",
       "1925         1444       KALI AT D/S WEST COAST PAPER MILL, KARNATAKA   \n",
       "...           ...                                                ...   \n",
       "432          1023  GHAGGAR AT MUBARAKPUR REST HOUSE (PATIALA), PU...   \n",
       "685          1023         GHAGGAR AT MUBARAKPUR REST HOUSE (PATIALA)   \n",
       "172          3023  VASISTA AT SALEM, D/S OF SAGO INDUSRIES EFFLUE...   \n",
       "432          1023  GHAGGAR AT MUBARAKPUR REST HOUSE (PATIALA), PU...   \n",
       "685          1023         GHAGGAR AT MUBARAKPUR REST HOUSE (PATIALA)   \n",
       "\n",
       "          STATE  Temp   DO     PH  Conductivity    BOD     NI      Fec_col  \\\n",
       "741     MANIPUR  28.0  8.2    7.6         112.0    2.1  0.516        221.0   \n",
       "745     MANIPUR  30.0  9.3    7.6         193.0    2.3  0.516        221.0   \n",
       "1917    GUJARAT  29.0  8.1  467.0           7.1    3.0  0.516        221.0   \n",
       "1924    GUJARAT  28.0  8.0  590.0           4.8    1.8  0.516        221.0   \n",
       "1925  KARNATAKA  27.0  7.7  440.0           6.5    2.4  0.900          0.9   \n",
       "...         ...   ...  ...    ...           ...    ...    ...          ...   \n",
       "432      PUNJAB  23.3  5.5    7.2         636.0    9.7  4.000       1328.0   \n",
       "685      PUNJAB  21.0  5.5    7.4         635.0    8.8  5.080       1400.0   \n",
       "172   TAMILNADU  24.3  0.9    7.6        2039.0  104.5  0.900  272521616.0   \n",
       "432      PUNJAB  23.3  5.5    7.2         636.0    9.7  4.000       1328.0   \n",
       "685      PUNJAB  21.0  5.5    7.4         635.0    8.8  5.080       1400.0   \n",
       "\n",
       "          Tot_col    year  \n",
       "741          31.0  2012.0  \n",
       "745          41.0  2012.0  \n",
       "1917        107.0  2003.0  \n",
       "1924       2873.0  2003.0  \n",
       "1925        688.0  2003.0  \n",
       "...           ...     ...  \n",
       "432        4975.0  2013.0  \n",
       "685        5500.0  2012.0  \n",
       "172   511090873.0  2014.0  \n",
       "432        4975.0  2013.0  \n",
       "685        5500.0  2012.0  \n",
       "\n",
       "[139 rows x 12 columns]"
      ]
     },
     "execution_count": 47,
     "metadata": {},
     "output_type": "execute_result"
    }
   ],
   "source": [
    "df_num_final_norm = zscore(df_num_final, axis=0)\n",
    "\n",
    "\n",
    "def indices_of_greater_than_3(df_norm):\n",
    "    indices_arr = []\n",
    "    n_col = df_norm.shape[1]\n",
    "    for index in range(n_col):\n",
    "        col_index = df_norm.iloc[: ,index]\n",
    "        greater_than_3 = df_norm[col_index > 3]\n",
    "        greater_than_3_index = greater_than_3.index\n",
    "        indices_arr.extend(greater_than_3_index)\n",
    "    return indices_arr\n",
    "\n",
    "indices_arr = indices_of_greater_than_3(df_num_final_norm)\n",
    "print(\"Number of outliers using Z-Score method-\",len(indices_arr))\n",
    "df_final.iloc[indices_arr, :]"
   ]
  },
  {
   "cell_type": "markdown",
   "id": "2faabdb9",
   "metadata": {},
   "source": [
    "Number of outliers using Z-Score method- 125"
   ]
  },
  {
   "cell_type": "code",
   "execution_count": 48,
   "id": "879d267e",
   "metadata": {},
   "outputs": [
    {
     "data": {
      "text/plain": [
       "(1862, 12)"
      ]
     },
     "execution_count": 48,
     "metadata": {},
     "output_type": "execute_result"
    }
   ],
   "source": [
    "df_final.drop(indices_arr, axis=0, inplace=True)\n",
    "df_final.shape"
   ]
  },
  {
   "cell_type": "code",
   "execution_count": 49,
   "id": "e7afe60b",
   "metadata": {},
   "outputs": [
    {
     "data": {
      "image/png": "[encoded data removed]",
      "text/plain": [
       "<Figure size 504x360 with 1 Axes>"
      ]
     },
     "metadata": {
      "needs_background": "light"
     },
     "output_type": "display_data"
    },
    {
     "data": {
      "image/png": "[encoded data removed]",
      "text/plain": [
       "<Figure size 504x360 with 1 Axes>"
      ]
     },
     "metadata": {
      "needs_background": "light"
     },
     "output_type": "display_data"
    },
    {
     "data": {
      "image/png": "[encoded data removed]",
      "text/plain": [
       "<Figure size 504x360 with 1 Axes>"
      ]
     },
     "metadata": {
      "needs_background": "light"
     },
     "output_type": "display_data"
    },
    {
     "data": {
      "image/png": "[encoded data removed]",
      "text/plain": [
       "<Figure size 504x360 with 1 Axes>"
      ]
     },
     "metadata": {
      "needs_background": "light"
     },
     "output_type": "display_data"
    },
    {
     "data": {
      "image/png": "[encoded data removed]",
      "text/plain": [
       "<Figure size 504x360 with 1 Axes>"
      ]
     },
     "metadata": {
      "needs_background": "light"
     },
     "output_type": "display_data"
    },
    {
     "data": {
      "image/png": "[encoded data removed]",
      "text/plain": [
       "<Figure size 504x360 with 1 Axes>"
      ]
     },
     "metadata": {
      "needs_background": "light"
     },
     "output_type": "display_data"
    },
    {
     "data": {
      "image/png": "[encoded data removed]",
      "text/plain": [
       "<Figure size 504x360 with 1 Axes>"
      ]
     },
     "metadata": {
      "needs_background": "light"
     },
     "output_type": "display_data"
    },
    {
     "data": {
      "image/png": "[encoded data removed]",
      "text/plain": [
       "<Figure size 504x360 with 1 Axes>"
      ]
     },
     "metadata": {
      "needs_background": "light"
     },
     "output_type": "display_data"
    },
    {
     "data": {
      "image/png": "[encoded data removed]",
      "text/plain": [
       "<Figure size 504x360 with 1 Axes>"
      ]
     },
     "metadata": {
      "needs_background": "light"
     },
     "output_type": "display_data"
    }
   ],
   "source": [
    "plot_kde(df_final.select_dtypes(exclude=\"object\"))"
   ]
  },
  {
   "cell_type": "markdown",
   "id": "f468d4af",
   "metadata": {},
   "source": [
    "### Water Quality Index Calculation"
   ]
  },
  {
   "cell_type": "markdown",
   "id": "7fa9ffa4",
   "metadata": {},
   "source": [
    "I will be using \"Weighted Arithmetic Water Quality Index Method\" to calculate WQI of each water sample. The formula to calculate WQI is -"
   ]
  },
  {
   "cell_type": "markdown",
   "id": "ae560d93",
   "metadata": {},
   "source": [
    "#### WQI = ∑ qi × wi / ∑ wi"
   ]
  },
  {
   "cell_type": "markdown",
   "id": "46088821",
   "metadata": {},
   "source": [
    "- Here wi - Unit weight of ith parameter\n",
    "\n",
    "- qi - Quality estimate scale of each parameter, it is calculated with the formula - "
   ]
  },
  {
   "cell_type": "markdown",
   "id": "f6fadba5",
   "metadata": {},
   "source": [
    "#### qi = 100 × ( Vi − VIdeal / Si − VIdeal )"
   ]
  },
  {
   "cell_type": "markdown",
   "id": "9ee5fdd7",
   "metadata": {},
   "source": [
    "Here Vi - Measured value of ith parameter\n",
    "\n",
    "- Videal - Ideal value of ith parameter in pure water\n",
    "\n",
    "- Si - Standard value recommended for ith parameter"
   ]
  },
  {
   "cell_type": "markdown",
   "id": "11d1478e",
   "metadata": {},
   "source": [
    "wi is calculated by the formula -"
   ]
  },
  {
   "cell_type": "markdown",
   "id": "084764a6",
   "metadata": {},
   "source": [
    "#### wi = K / Si"
   ]
  },
  {
   "cell_type": "markdown",
   "id": "d78dfa5a",
   "metadata": {},
   "source": [
    "Here K is proportionality constant which is -"
   ]
  },
  {
   "cell_type": "markdown",
   "id": "804f3405",
   "metadata": {},
   "source": [
    "#### K = 1 / ∑ Si"
   ]
  },
  {
   "cell_type": "markdown",
   "id": "faf2636b",
   "metadata": {},
   "source": [
    "##### Standard value recommended for parameters (Si) -"
   ]
  },
  {
   "cell_type": "markdown",
   "id": "83783c67",
   "metadata": {},
   "source": [
    "Dissolved oxygen, mg/L 10\n",
    "\n",
    "pH 8.5\n",
    "\n",
    "Conductivity, µS/cm 1000\n",
    "\n",
    "Biological oxygen demand, mg/L 5\n",
    "\n",
    "Nitrate, mg/L 45\n",
    "\n",
    "Fecal coliform/100 mL 100\n",
    "\n",
    "Total coliform/100 mL 1000"
   ]
  },
  {
   "cell_type": "markdown",
   "id": "7794b1d8",
   "metadata": {},
   "source": [
    "##### Values of unit weights for each parameter (wi) -\n",
    "Dissolved Oxygen 0.2213\n",
    "\n",
    "pH 0.2604\n",
    "\n",
    "Conductivity 0.0022\n",
    "\n",
    "Biological Oxygen Demand 0.4426\n",
    "\n",
    "Nitrate 0.0492\n",
    "\n",
    "Fecal Coliform 0.0221\n",
    "\n",
    "Total Coliform 0.0022"
   ]
  },
  {
   "cell_type": "markdown",
   "id": "86711772",
   "metadata": {},
   "source": [
    "##### Ideal value of parameters (Videal) -\n",
    "Dissolved Oxygen 14.6\n",
    "\n",
    "pH 7.0\n",
    "\n",
    "Conductivity 0\n",
    "\n",
    "Biological Oxygen Demand 0\n",
    "\n",
    "Nitrate 0\n",
    "\n",
    "Fecal Coliform 0\n",
    "\n",
    "Total Coliform 0"
   ]
  },
  {
   "cell_type": "markdown",
   "id": "19766b96",
   "metadata": {},
   "source": [
    " #### Calculating Water Quality Index of each sample"
   ]
  },
  {
   "cell_type": "code",
   "execution_count": 53,
   "id": "3411ab7e",
   "metadata": {},
   "outputs": [],
   "source": [
    "df_num_final = df_final.select_dtypes(exclude=\"object\")"
   ]
  },
  {
   "cell_type": "markdown",
   "id": "0ffced59",
   "metadata": {},
   "source": [
    "Dropping year and Temp attribute because they are not used for computing WQI"
   ]
  },
  {
   "cell_type": "code",
   "execution_count": 54,
   "id": "2817e621",
   "metadata": {},
   "outputs": [],
   "source": [
    "df_num_final.drop([\"year\", \"Temp\"], axis=1, inplace=True)"
   ]
  },
  {
   "cell_type": "markdown",
   "id": "9a1376ef",
   "metadata": {},
   "source": [
    "Weight Vector(wi)"
   ]
  },
  {
   "cell_type": "code",
   "execution_count": 55,
   "id": "b144bec4",
   "metadata": {},
   "outputs": [],
   "source": [
    "wi = np.array([0.2213, 0.2604, 0.0022, 0.4426, 0.0492, 0.0221, 0.0022])"
   ]
  },
  {
   "cell_type": "markdown",
   "id": "dfcaf29c",
   "metadata": {},
   "source": [
    " Standard values of parameters(si)"
   ]
  },
  {
   "cell_type": "code",
   "execution_count": 56,
   "id": "cf971cb7",
   "metadata": {},
   "outputs": [],
   "source": [
    "si = np.array([10, 8.5, 1000, 5, 45, 100, 1000])"
   ]
  },
  {
   "cell_type": "markdown",
   "id": "14398a9d",
   "metadata": {},
   "source": [
    "Ideal values of paramters(vIdeal)"
   ]
  },
  {
   "cell_type": "code",
   "execution_count": 57,
   "id": "e2a23652",
   "metadata": {},
   "outputs": [],
   "source": [
    "vIdeal = np.array([14.6, 7, 0, 0, 0, 0, 0])"
   ]
  },
  {
   "cell_type": "code",
   "execution_count": 59,
   "id": "e5736909",
   "metadata": {},
   "outputs": [],
   "source": [
    "def calc_wqi(sample):\n",
    "    wqi_sample = 0\n",
    "    num_col = 7\n",
    "    for index in range(num_col):\n",
    "        v_index = sample[index] # Obeserved value of sample at index\n",
    "        v_index_ideal = vIdeal[index] # Ideal value of obeserved value\n",
    "        w_index = wi[index] # weight of corresponding parameter of obeserved value\n",
    "        std_index = si[index] # Standard value recommended for obeserved value\n",
    "        q_index = (v_index - v_index_ideal) / (std_index - v_index_ideal)\n",
    "        q_index = q_index * 100 # Final qi value of obeserved value\n",
    "        wqi_sample += q_index*w_index\n",
    "    return wqi_sample"
   ]
  },
  {
   "cell_type": "markdown",
   "id": "8da77271",
   "metadata": {},
   "source": [
    "Computing WQI for the whole dataset"
   ]
  },
  {
   "cell_type": "code",
   "execution_count": 60,
   "id": "0514e091",
   "metadata": {},
   "outputs": [],
   "source": [
    "def calc_wqi_for_df(df):\n",
    "    wqi_arr = []\n",
    "    for index in range(df.shape[0]):\n",
    "        index_row = df.iloc[index, :]\n",
    "        wqi_row = calc_wqi(index_row)\n",
    "        wqi_arr.append(wqi_row)\n",
    "    return wqi_arr"
   ]
  },
  {
   "cell_type": "code",
   "execution_count": 61,
   "id": "4075b352",
   "metadata": {},
   "outputs": [],
   "source": [
    "wqi_arr = calc_wqi_for_df(df_num_final)\n",
    "# Converting oridnary array to numpy array\n",
    "wqi_arr = np.array(wqi_arr)\n",
    "wqi_arr = np.reshape(wqi_arr, (-1, 1))"
   ]
  },
  {
   "cell_type": "markdown",
   "id": "962839f2",
   "metadata": {},
   "source": [
    "Resetting index values of the dataframes"
   ]
  },
  {
   "cell_type": "code",
   "execution_count": 62,
   "id": "91255178",
   "metadata": {},
   "outputs": [],
   "source": [
    "wqi_arr_df = pd.DataFrame(wqi_arr, columns=[\"WQI\"]).reset_index()\n",
    "df_final = df_final.reset_index()"
   ]
  },
  {
   "cell_type": "markdown",
   "id": "28738d7a",
   "metadata": {},
   "source": [
    "Combining dataframe of WQI and dataframe of attributes"
   ]
  },
  {
   "cell_type": "code",
   "execution_count": 63,
   "id": "f5ca866a",
   "metadata": {},
   "outputs": [
    {
     "data": {
      "text/plain": [
       "(1862, 13)"
      ]
     },
     "execution_count": 63,
     "metadata": {},
     "output_type": "execute_result"
    }
   ],
   "source": [
    "df_wqi = pd.concat([df_final, pd.DataFrame(wqi_arr, columns=[\"WQI\"])], axis=1)\n",
    "df_wqi.drop(\"index\", axis=1, inplace=True)\n",
    "df_wqi.shape"
   ]
  },
  {
   "cell_type": "code",
   "execution_count": 64,
   "id": "86b757be",
   "metadata": {},
   "outputs": [
    {
     "data": {
      "text/html": [
       "<div>\n",
       "<style scoped>\n",
       "    .dataframe tbody tr th:only-of-type {\n",
       "        vertical-align: middle;\n",
       "    }\n",
       "\n",
       "    .dataframe tbody tr th {\n",
       "        vertical-align: top;\n",
       "    }\n",
       "\n",
       "    .dataframe thead th {\n",
       "        text-align: right;\n",
       "    }\n",
       "</style>\n",
       "<table border=\"1\" class=\"dataframe\">\n",
       "  <thead>\n",
       "    <tr style=\"text-align: right;\">\n",
       "      <th></th>\n",
       "      <th>STATION CODE</th>\n",
       "      <th>LOCATIONS</th>\n",
       "      <th>STATE</th>\n",
       "      <th>Temp</th>\n",
       "      <th>DO</th>\n",
       "      <th>PH</th>\n",
       "      <th>Conductivity</th>\n",
       "      <th>BOD</th>\n",
       "      <th>NI</th>\n",
       "      <th>Fec_col</th>\n",
       "      <th>Tot_col</th>\n",
       "      <th>year</th>\n",
       "      <th>WQI</th>\n",
       "    </tr>\n",
       "  </thead>\n",
       "  <tbody>\n",
       "    <tr>\n",
       "      <th>196</th>\n",
       "      <td>3375</td>\n",
       "      <td>LUKHA RIVER AT MYNDIHATI (TRIBUTARY OF LUNAR)</td>\n",
       "      <td>MEGHALAYA</td>\n",
       "      <td>20.5</td>\n",
       "      <td>6.7</td>\n",
       "      <td>2.7</td>\n",
       "      <td>1350.0</td>\n",
       "      <td>3.3000</td>\n",
       "      <td>1.100</td>\n",
       "      <td>7.0</td>\n",
       "      <td>16.0</td>\n",
       "      <td>2014.0</td>\n",
       "      <td>-6.855044</td>\n",
       "    </tr>\n",
       "    <tr>\n",
       "      <th>231</th>\n",
       "      <td>2</td>\n",
       "      <td>DAMANGANGA AT D/S OF MADHUBAN, DAMAN</td>\n",
       "      <td>DAMAN &amp; DIU</td>\n",
       "      <td>27.0</td>\n",
       "      <td>6.7</td>\n",
       "      <td>0.0</td>\n",
       "      <td>208.0</td>\n",
       "      <td>1.8965</td>\n",
       "      <td>0.516</td>\n",
       "      <td>221.0</td>\n",
       "      <td>468.0</td>\n",
       "      <td>2013.0</td>\n",
       "      <td>-61.637076</td>\n",
       "    </tr>\n",
       "    <tr>\n",
       "      <th>234</th>\n",
       "      <td>1865</td>\n",
       "      <td>RIVER DHADAR AT KOTHADA</td>\n",
       "      <td>GUJARAT</td>\n",
       "      <td>27.0</td>\n",
       "      <td>6.7</td>\n",
       "      <td>0.0</td>\n",
       "      <td>506.0</td>\n",
       "      <td>1.8965</td>\n",
       "      <td>6.000</td>\n",
       "      <td>26.0</td>\n",
       "      <td>227.0</td>\n",
       "      <td>2013.0</td>\n",
       "      <td>-65.334452</td>\n",
       "    </tr>\n",
       "    <tr>\n",
       "      <th>445</th>\n",
       "      <td>3375</td>\n",
       "      <td>LUKHA RIVER</td>\n",
       "      <td>MEGHALAYA</td>\n",
       "      <td>21.3</td>\n",
       "      <td>6.8</td>\n",
       "      <td>2.7</td>\n",
       "      <td>1074.0</td>\n",
       "      <td>3.2000</td>\n",
       "      <td>2.330</td>\n",
       "      <td>4.0</td>\n",
       "      <td>11.0</td>\n",
       "      <td>2013.0</td>\n",
       "      <td>-8.214971</td>\n",
       "    </tr>\n",
       "    <tr>\n",
       "      <th>718</th>\n",
       "      <td>3375</td>\n",
       "      <td>LUKHA RIVER AT MYNDIHATI (TRIBUTARY OF LUNAR)</td>\n",
       "      <td>MEGHALAYA</td>\n",
       "      <td>25.0</td>\n",
       "      <td>6.9</td>\n",
       "      <td>2.6</td>\n",
       "      <td>1072.0</td>\n",
       "      <td>3.2000</td>\n",
       "      <td>1.170</td>\n",
       "      <td>3.0</td>\n",
       "      <td>21.0</td>\n",
       "      <td>2012.0</td>\n",
       "      <td>-10.579224</td>\n",
       "    </tr>\n",
       "  </tbody>\n",
       "</table>\n",
       "</div>"
      ],
      "text/plain": [
       "    STATION CODE                                      LOCATIONS        STATE  \\\n",
       "196         3375  LUKHA RIVER AT MYNDIHATI (TRIBUTARY OF LUNAR)    MEGHALAYA   \n",
       "231            2           DAMANGANGA AT D/S OF MADHUBAN, DAMAN  DAMAN & DIU   \n",
       "234         1865                        RIVER DHADAR AT KOTHADA      GUJARAT   \n",
       "445         3375                                    LUKHA RIVER    MEGHALAYA   \n",
       "718         3375  LUKHA RIVER AT MYNDIHATI (TRIBUTARY OF LUNAR)    MEGHALAYA   \n",
       "\n",
       "     Temp   DO   PH  Conductivity     BOD     NI  Fec_col  Tot_col    year  \\\n",
       "196  20.5  6.7  2.7        1350.0  3.3000  1.100      7.0     16.0  2014.0   \n",
       "231  27.0  6.7  0.0         208.0  1.8965  0.516    221.0    468.0  2013.0   \n",
       "234  27.0  6.7  0.0         506.0  1.8965  6.000     26.0    227.0  2013.0   \n",
       "445  21.3  6.8  2.7        1074.0  3.2000  2.330      4.0     11.0  2013.0   \n",
       "718  25.0  6.9  2.6        1072.0  3.2000  1.170      3.0     21.0  2012.0   \n",
       "\n",
       "           WQI  \n",
       "196  -6.855044  \n",
       "231 -61.637076  \n",
       "234 -65.334452  \n",
       "445  -8.214971  \n",
       "718 -10.579224  "
      ]
     },
     "execution_count": 64,
     "metadata": {},
     "output_type": "execute_result"
    }
   ],
   "source": [
    "df_wqi[(df_wqi[\"WQI\"] < 0)]"
   ]
  },
  {
   "cell_type": "code",
   "execution_count": 65,
   "id": "42e985d7",
   "metadata": {},
   "outputs": [],
   "source": [
    "df_neg_indices = df_wqi[(df_wqi[\"WQI\"] < 0)].index\n",
    "df_wqi.drop(df_neg_indices, axis=0, inplace=True)"
   ]
  },
  {
   "cell_type": "code",
   "execution_count": 66,
   "id": "9c57ab49",
   "metadata": {},
   "outputs": [],
   "source": [
    "df_wqi[\"WQI clf\"] = df_wqi[\"WQI\"].apply(lambda x: (3 if (x <= 25)  \n",
    "                                        else(2 if (26<=x<=50) \n",
    "                                        else(1 if (51<=x<=75) \n",
    "                                        else 0))))"
   ]
  },
  {
   "cell_type": "code",
   "execution_count": 67,
   "id": "050a205d",
   "metadata": {},
   "outputs": [
    {
     "data": {
      "text/html": [
       "<div>\n",
       "<style scoped>\n",
       "    .dataframe tbody tr th:only-of-type {\n",
       "        vertical-align: middle;\n",
       "    }\n",
       "\n",
       "    .dataframe tbody tr th {\n",
       "        vertical-align: top;\n",
       "    }\n",
       "\n",
       "    .dataframe thead th {\n",
       "        text-align: right;\n",
       "    }\n",
       "</style>\n",
       "<table border=\"1\" class=\"dataframe\">\n",
       "  <thead>\n",
       "    <tr style=\"text-align: right;\">\n",
       "      <th></th>\n",
       "      <th>STATION CODE</th>\n",
       "      <th>LOCATIONS</th>\n",
       "      <th>STATE</th>\n",
       "      <th>Temp</th>\n",
       "      <th>DO</th>\n",
       "      <th>PH</th>\n",
       "      <th>Conductivity</th>\n",
       "      <th>BOD</th>\n",
       "      <th>NI</th>\n",
       "      <th>Fec_col</th>\n",
       "      <th>Tot_col</th>\n",
       "      <th>year</th>\n",
       "      <th>WQI</th>\n",
       "      <th>WQI clf</th>\n",
       "    </tr>\n",
       "  </thead>\n",
       "  <tbody>\n",
       "    <tr>\n",
       "      <th>1857</th>\n",
       "      <td>1330</td>\n",
       "      <td>TAMBIRAPARANI AT ARUMUGANERI, TAMILNADU</td>\n",
       "      <td>TAMILNADU</td>\n",
       "      <td>27.0</td>\n",
       "      <td>7.9</td>\n",
       "      <td>738.0</td>\n",
       "      <td>7.2</td>\n",
       "      <td>2.7</td>\n",
       "      <td>0.518</td>\n",
       "      <td>0.518</td>\n",
       "      <td>202.0</td>\n",
       "      <td>2003.0</td>\n",
       "      <td>12746.407333</td>\n",
       "      <td>0</td>\n",
       "    </tr>\n",
       "    <tr>\n",
       "      <th>1858</th>\n",
       "      <td>1450</td>\n",
       "      <td>PALAR AT VANIYAMBADI WATER SUPPLY HEAD WORK, T...</td>\n",
       "      <td>TAMILNADU</td>\n",
       "      <td>29.0</td>\n",
       "      <td>7.5</td>\n",
       "      <td>585.0</td>\n",
       "      <td>6.3</td>\n",
       "      <td>2.6</td>\n",
       "      <td>0.155</td>\n",
       "      <td>0.155</td>\n",
       "      <td>315.0</td>\n",
       "      <td>2003.0</td>\n",
       "      <td>10091.343432</td>\n",
       "      <td>0</td>\n",
       "    </tr>\n",
       "    <tr>\n",
       "      <th>1859</th>\n",
       "      <td>1403</td>\n",
       "      <td>GUMTI AT U/S SOUTH TRIPURA,TRIPURA</td>\n",
       "      <td>TRIPURA</td>\n",
       "      <td>28.0</td>\n",
       "      <td>7.6</td>\n",
       "      <td>98.0</td>\n",
       "      <td>6.2</td>\n",
       "      <td>1.2</td>\n",
       "      <td>0.516</td>\n",
       "      <td>221.000</td>\n",
       "      <td>570.0</td>\n",
       "      <td>2003.0</td>\n",
       "      <td>1629.125767</td>\n",
       "      <td>0</td>\n",
       "    </tr>\n",
       "    <tr>\n",
       "      <th>1860</th>\n",
       "      <td>1404</td>\n",
       "      <td>GUMTI AT D/S SOUTH TRIPURA, TRIPURA</td>\n",
       "      <td>TRIPURA</td>\n",
       "      <td>28.0</td>\n",
       "      <td>7.7</td>\n",
       "      <td>91.0</td>\n",
       "      <td>6.5</td>\n",
       "      <td>1.3</td>\n",
       "      <td>0.516</td>\n",
       "      <td>221.000</td>\n",
       "      <td>562.0</td>\n",
       "      <td>2003.0</td>\n",
       "      <td>1508.008186</td>\n",
       "      <td>0</td>\n",
       "    </tr>\n",
       "    <tr>\n",
       "      <th>1861</th>\n",
       "      <td>1726</td>\n",
       "      <td>CHANDRAPUR, AGARTALA D/S OF HAORA RIVER, TRIPURA</td>\n",
       "      <td>TRIPURA</td>\n",
       "      <td>29.0</td>\n",
       "      <td>7.6</td>\n",
       "      <td>110.0</td>\n",
       "      <td>5.7</td>\n",
       "      <td>1.1</td>\n",
       "      <td>0.516</td>\n",
       "      <td>221.000</td>\n",
       "      <td>546.0</td>\n",
       "      <td>2003.0</td>\n",
       "      <td>1836.555177</td>\n",
       "      <td>0</td>\n",
       "    </tr>\n",
       "  </tbody>\n",
       "</table>\n",
       "</div>"
      ],
      "text/plain": [
       "     STATION CODE                                          LOCATIONS  \\\n",
       "1857         1330            TAMBIRAPARANI AT ARUMUGANERI, TAMILNADU   \n",
       "1858         1450  PALAR AT VANIYAMBADI WATER SUPPLY HEAD WORK, T...   \n",
       "1859         1403                 GUMTI AT U/S SOUTH TRIPURA,TRIPURA   \n",
       "1860         1404                GUMTI AT D/S SOUTH TRIPURA, TRIPURA   \n",
       "1861         1726   CHANDRAPUR, AGARTALA D/S OF HAORA RIVER, TRIPURA   \n",
       "\n",
       "          STATE  Temp   DO     PH  Conductivity  BOD     NI  Fec_col  Tot_col  \\\n",
       "1857  TAMILNADU  27.0  7.9  738.0           7.2  2.7  0.518    0.518    202.0   \n",
       "1858  TAMILNADU  29.0  7.5  585.0           6.3  2.6  0.155    0.155    315.0   \n",
       "1859    TRIPURA  28.0  7.6   98.0           6.2  1.2  0.516  221.000    570.0   \n",
       "1860    TRIPURA  28.0  7.7   91.0           6.5  1.3  0.516  221.000    562.0   \n",
       "1861    TRIPURA  29.0  7.6  110.0           5.7  1.1  0.516  221.000    546.0   \n",
       "\n",
       "        year           WQI  WQI clf  \n",
       "1857  2003.0  12746.407333        0  \n",
       "1858  2003.0  10091.343432        0  \n",
       "1859  2003.0   1629.125767        0  \n",
       "1860  2003.0   1508.008186        0  \n",
       "1861  2003.0   1836.555177        0  "
      ]
     },
     "execution_count": 67,
     "metadata": {},
     "output_type": "execute_result"
    }
   ],
   "source": [
    "df_wqi.tail()"
   ]
  },
  {
   "cell_type": "code",
   "execution_count": 68,
   "id": "678aedbe",
   "metadata": {},
   "outputs": [
    {
     "data": {
      "text/html": [
       "<div>\n",
       "<style scoped>\n",
       "    .dataframe tbody tr th:only-of-type {\n",
       "        vertical-align: middle;\n",
       "    }\n",
       "\n",
       "    .dataframe tbody tr th {\n",
       "        vertical-align: top;\n",
       "    }\n",
       "\n",
       "    .dataframe thead th {\n",
       "        text-align: right;\n",
       "    }\n",
       "</style>\n",
       "<table border=\"1\" class=\"dataframe\">\n",
       "  <thead>\n",
       "    <tr style=\"text-align: right;\">\n",
       "      <th></th>\n",
       "      <th>Temp</th>\n",
       "      <th>DO</th>\n",
       "      <th>PH</th>\n",
       "      <th>Conductivity</th>\n",
       "      <th>BOD</th>\n",
       "      <th>NI</th>\n",
       "      <th>Fec_col</th>\n",
       "      <th>Tot_col</th>\n",
       "      <th>year</th>\n",
       "      <th>WQI</th>\n",
       "      <th>WQI clf</th>\n",
       "    </tr>\n",
       "  </thead>\n",
       "  <tbody>\n",
       "    <tr>\n",
       "      <th>count</th>\n",
       "      <td>1857.000000</td>\n",
       "      <td>1857.00000</td>\n",
       "      <td>1857.000000</td>\n",
       "      <td>1857.000000</td>\n",
       "      <td>1857.000000</td>\n",
       "      <td>1857.000000</td>\n",
       "      <td>1857.000000</td>\n",
       "      <td>1857.000000</td>\n",
       "      <td>1857.000000</td>\n",
       "      <td>1857.000000</td>\n",
       "      <td>1857.000000</td>\n",
       "    </tr>\n",
       "    <tr>\n",
       "      <th>mean</th>\n",
       "      <td>26.249024</td>\n",
       "      <td>6.46968</td>\n",
       "      <td>21.444437</td>\n",
       "      <td>914.469160</td>\n",
       "      <td>3.904589</td>\n",
       "      <td>1.088036</td>\n",
       "      <td>2163.068225</td>\n",
       "      <td>6992.528810</td>\n",
       "      <td>2010.059774</td>\n",
       "      <td>374.095071</td>\n",
       "      <td>0.684976</td>\n",
       "    </tr>\n",
       "    <tr>\n",
       "      <th>std</th>\n",
       "      <td>3.235525</td>\n",
       "      <td>1.24775</td>\n",
       "      <td>125.862427</td>\n",
       "      <td>2557.465581</td>\n",
       "      <td>7.002613</td>\n",
       "      <td>1.576473</td>\n",
       "      <td>8095.718660</td>\n",
       "      <td>39406.757235</td>\n",
       "      <td>3.044247</td>\n",
       "      <td>2189.980440</td>\n",
       "      <td>0.730608</td>\n",
       "    </tr>\n",
       "    <tr>\n",
       "      <th>min</th>\n",
       "      <td>10.000000</td>\n",
       "      <td>0.00000</td>\n",
       "      <td>2.900000</td>\n",
       "      <td>3.700000</td>\n",
       "      <td>0.100000</td>\n",
       "      <td>0.000000</td>\n",
       "      <td>0.000000</td>\n",
       "      <td>0.000000</td>\n",
       "      <td>2003.000000</td>\n",
       "      <td>16.795814</td>\n",
       "      <td>0.000000</td>\n",
       "    </tr>\n",
       "    <tr>\n",
       "      <th>25%</th>\n",
       "      <td>25.000000</td>\n",
       "      <td>6.00000</td>\n",
       "      <td>6.900000</td>\n",
       "      <td>76.000000</td>\n",
       "      <td>1.100000</td>\n",
       "      <td>0.270000</td>\n",
       "      <td>38.000000</td>\n",
       "      <td>113.000000</td>\n",
       "      <td>2008.000000</td>\n",
       "      <td>55.271272</td>\n",
       "      <td>0.000000</td>\n",
       "    </tr>\n",
       "    <tr>\n",
       "      <th>50%</th>\n",
       "      <td>27.000000</td>\n",
       "      <td>6.70000</td>\n",
       "      <td>7.300000</td>\n",
       "      <td>169.000000</td>\n",
       "      <td>1.800000</td>\n",
       "      <td>0.516000</td>\n",
       "      <td>221.000000</td>\n",
       "      <td>468.000000</td>\n",
       "      <td>2011.000000</td>\n",
       "      <td>71.845041</td>\n",
       "      <td>1.000000</td>\n",
       "    </tr>\n",
       "    <tr>\n",
       "      <th>75%</th>\n",
       "      <td>28.200000</td>\n",
       "      <td>7.20000</td>\n",
       "      <td>7.700000</td>\n",
       "      <td>439.000000</td>\n",
       "      <td>3.400000</td>\n",
       "      <td>1.010000</td>\n",
       "      <td>590.000000</td>\n",
       "      <td>1630.000000</td>\n",
       "      <td>2013.000000</td>\n",
       "      <td>101.752648</td>\n",
       "      <td>1.000000</td>\n",
       "    </tr>\n",
       "    <tr>\n",
       "      <th>max</th>\n",
       "      <td>35.000000</td>\n",
       "      <td>10.00000</td>\n",
       "      <td>3384.000000</td>\n",
       "      <td>18291.000000</td>\n",
       "      <td>88.000000</td>\n",
       "      <td>12.150000</td>\n",
       "      <td>150250.000000</td>\n",
       "      <td>967500.000000</td>\n",
       "      <td>2014.000000</td>\n",
       "      <td>58680.748613</td>\n",
       "      <td>3.000000</td>\n",
       "    </tr>\n",
       "  </tbody>\n",
       "</table>\n",
       "</div>"
      ],
      "text/plain": [
       "              Temp          DO           PH  Conductivity          BOD  \\\n",
       "count  1857.000000  1857.00000  1857.000000   1857.000000  1857.000000   \n",
       "mean     26.249024     6.46968    21.444437    914.469160     3.904589   \n",
       "std       3.235525     1.24775   125.862427   2557.465581     7.002613   \n",
       "min      10.000000     0.00000     2.900000      3.700000     0.100000   \n",
       "25%      25.000000     6.00000     6.900000     76.000000     1.100000   \n",
       "50%      27.000000     6.70000     7.300000    169.000000     1.800000   \n",
       "75%      28.200000     7.20000     7.700000    439.000000     3.400000   \n",
       "max      35.000000    10.00000  3384.000000  18291.000000    88.000000   \n",
       "\n",
       "                NI        Fec_col        Tot_col         year           WQI  \\\n",
       "count  1857.000000    1857.000000    1857.000000  1857.000000   1857.000000   \n",
       "mean      1.088036    2163.068225    6992.528810  2010.059774    374.095071   \n",
       "std       1.576473    8095.718660   39406.757235     3.044247   2189.980440   \n",
       "min       0.000000       0.000000       0.000000  2003.000000     16.795814   \n",
       "25%       0.270000      38.000000     113.000000  2008.000000     55.271272   \n",
       "50%       0.516000     221.000000     468.000000  2011.000000     71.845041   \n",
       "75%       1.010000     590.000000    1630.000000  2013.000000    101.752648   \n",
       "max      12.150000  150250.000000  967500.000000  2014.000000  58680.748613   \n",
       "\n",
       "           WQI clf  \n",
       "count  1857.000000  \n",
       "mean      0.684976  \n",
       "std       0.730608  \n",
       "min       0.000000  \n",
       "25%       0.000000  \n",
       "50%       1.000000  \n",
       "75%       1.000000  \n",
       "max       3.000000  "
      ]
     },
     "execution_count": 68,
     "metadata": {},
     "output_type": "execute_result"
    }
   ],
   "source": [
    "df_wqi.describe()"
   ]
  },
  {
   "cell_type": "code",
   "execution_count": 80,
   "id": "fd182c10",
   "metadata": {},
   "outputs": [],
   "source": [
    "df_wqi.to_csv('Clean_water_data.csv')"
   ]
  },
  {
   "cell_type": "code",
   "execution_count": 72,
   "id": "9095f0d1",
   "metadata": {},
   "outputs": [
    {
     "data": {
      "text/plain": [
       "48.500828      2\n",
       "63.778321      1\n",
       "53.494592      1\n",
       "135.400788     1\n",
       "93.189114      1\n",
       "              ..\n",
       "69.431542      1\n",
       "66.359237      1\n",
       "54.547025      1\n",
       "55.203906      1\n",
       "1836.555177    1\n",
       "Name: WQI, Length: 1856, dtype: int64"
      ]
     },
     "execution_count": 72,
     "metadata": {},
     "output_type": "execute_result"
    }
   ],
   "source": [
    "df_wqi[\"WQI\"].value_counts()"
   ]
  },
  {
   "cell_type": "code",
   "execution_count": 74,
   "id": "948a4a40",
   "metadata": {},
   "outputs": [
    {
     "data": {
      "text/plain": [
       "STATION CODE    0\n",
       "LOCATIONS       0\n",
       "STATE           0\n",
       "Temp            0\n",
       "DO              0\n",
       "PH              0\n",
       "Conductivity    0\n",
       "BOD             0\n",
       "NI              0\n",
       "Fec_col         0\n",
       "Tot_col         0\n",
       "year            0\n",
       "WQI             0\n",
       "WQI clf         0\n",
       "dtype: int64"
      ]
     },
     "execution_count": 74,
     "metadata": {},
     "output_type": "execute_result"
    }
   ],
   "source": [
    "df_wqi.isnull().sum()"
   ]
  },
  {
   "cell_type": "code",
   "execution_count": 75,
   "id": "c7949006",
   "metadata": {},
   "outputs": [
    {
     "name": "stdout",
     "output_type": "stream",
     "text": [
      "<class 'pandas.core.frame.DataFrame'>\n",
      "Int64Index: 1857 entries, 0 to 1861\n",
      "Data columns (total 14 columns):\n",
      " #   Column        Non-Null Count  Dtype  \n",
      "---  ------        --------------  -----  \n",
      " 0   STATION CODE  1857 non-null   object \n",
      " 1   LOCATIONS     1857 non-null   object \n",
      " 2   STATE         1857 non-null   object \n",
      " 3   Temp          1857 non-null   float64\n",
      " 4   DO            1857 non-null   float64\n",
      " 5   PH            1857 non-null   float64\n",
      " 6   Conductivity  1857 non-null   float64\n",
      " 7   BOD           1857 non-null   float64\n",
      " 8   NI            1857 non-null   float64\n",
      " 9   Fec_col       1857 non-null   float64\n",
      " 10  Tot_col       1857 non-null   float64\n",
      " 11  year          1857 non-null   float64\n",
      " 12  WQI           1857 non-null   float64\n",
      " 13  WQI clf       1857 non-null   int64  \n",
      "dtypes: float64(10), int64(1), object(3)\n",
      "memory usage: 217.6+ KB\n"
     ]
    }
   ],
   "source": [
    "df_wqi.info()"
   ]
  },
  {
   "cell_type": "code",
   "execution_count": 77,
   "id": "5a6dca1b",
   "metadata": {},
   "outputs": [
    {
     "data": {
      "text/plain": [
       "<AxesSubplot:>"
      ]
     },
     "execution_count": 77,
     "metadata": {},
     "output_type": "execute_result"
    },
    {
     "data": {
      "image/png": "[encoded data removed]",
      "text/plain": [
       "<Figure size 432x288 with 2 Axes>"
      ]
     },
     "metadata": {
      "needs_background": "light"
     },
     "output_type": "display_data"
    }
   ],
   "source": [
    "sns.heatmap(df_wqi.corr(),annot=True)"
   ]
  },
  {
   "cell_type": "code",
   "execution_count": 79,
   "id": "b60e7eca",
   "metadata": {},
   "outputs": [
    {
     "data": {
      "text/html": [
       "<div>\n",
       "<style scoped>\n",
       "    .dataframe tbody tr th:only-of-type {\n",
       "        vertical-align: middle;\n",
       "    }\n",
       "\n",
       "    .dataframe tbody tr th {\n",
       "        vertical-align: top;\n",
       "    }\n",
       "\n",
       "    .dataframe thead th {\n",
       "        text-align: right;\n",
       "    }\n",
       "</style>\n",
       "<table border=\"1\" class=\"dataframe\">\n",
       "  <thead>\n",
       "    <tr style=\"text-align: right;\">\n",
       "      <th></th>\n",
       "      <th>Temp</th>\n",
       "      <th>DO</th>\n",
       "      <th>PH</th>\n",
       "      <th>Conductivity</th>\n",
       "      <th>BOD</th>\n",
       "      <th>NI</th>\n",
       "      <th>WQI clf</th>\n",
       "    </tr>\n",
       "  </thead>\n",
       "  <tbody>\n",
       "    <tr>\n",
       "      <th>0</th>\n",
       "      <td>30.6</td>\n",
       "      <td>6.7</td>\n",
       "      <td>7.5</td>\n",
       "      <td>203.0</td>\n",
       "      <td>1.8965</td>\n",
       "      <td>0.100</td>\n",
       "      <td>1</td>\n",
       "    </tr>\n",
       "    <tr>\n",
       "      <th>1</th>\n",
       "      <td>29.8</td>\n",
       "      <td>5.7</td>\n",
       "      <td>7.2</td>\n",
       "      <td>189.0</td>\n",
       "      <td>2.0000</td>\n",
       "      <td>0.200</td>\n",
       "      <td>0</td>\n",
       "    </tr>\n",
       "    <tr>\n",
       "      <th>2</th>\n",
       "      <td>29.5</td>\n",
       "      <td>6.3</td>\n",
       "      <td>6.9</td>\n",
       "      <td>179.0</td>\n",
       "      <td>1.7000</td>\n",
       "      <td>0.100</td>\n",
       "      <td>0</td>\n",
       "    </tr>\n",
       "    <tr>\n",
       "      <th>3</th>\n",
       "      <td>29.7</td>\n",
       "      <td>5.8</td>\n",
       "      <td>6.9</td>\n",
       "      <td>64.0</td>\n",
       "      <td>3.8000</td>\n",
       "      <td>0.500</td>\n",
       "      <td>0</td>\n",
       "    </tr>\n",
       "    <tr>\n",
       "      <th>4</th>\n",
       "      <td>29.5</td>\n",
       "      <td>5.8</td>\n",
       "      <td>7.3</td>\n",
       "      <td>83.0</td>\n",
       "      <td>1.9000</td>\n",
       "      <td>0.400</td>\n",
       "      <td>0</td>\n",
       "    </tr>\n",
       "    <tr>\n",
       "      <th>...</th>\n",
       "      <td>...</td>\n",
       "      <td>...</td>\n",
       "      <td>...</td>\n",
       "      <td>...</td>\n",
       "      <td>...</td>\n",
       "      <td>...</td>\n",
       "      <td>...</td>\n",
       "    </tr>\n",
       "    <tr>\n",
       "      <th>1857</th>\n",
       "      <td>27.0</td>\n",
       "      <td>7.9</td>\n",
       "      <td>738.0</td>\n",
       "      <td>7.2</td>\n",
       "      <td>2.7000</td>\n",
       "      <td>0.518</td>\n",
       "      <td>0</td>\n",
       "    </tr>\n",
       "    <tr>\n",
       "      <th>1858</th>\n",
       "      <td>29.0</td>\n",
       "      <td>7.5</td>\n",
       "      <td>585.0</td>\n",
       "      <td>6.3</td>\n",
       "      <td>2.6000</td>\n",
       "      <td>0.155</td>\n",
       "      <td>0</td>\n",
       "    </tr>\n",
       "    <tr>\n",
       "      <th>1859</th>\n",
       "      <td>28.0</td>\n",
       "      <td>7.6</td>\n",
       "      <td>98.0</td>\n",
       "      <td>6.2</td>\n",
       "      <td>1.2000</td>\n",
       "      <td>0.516</td>\n",
       "      <td>0</td>\n",
       "    </tr>\n",
       "    <tr>\n",
       "      <th>1860</th>\n",
       "      <td>28.0</td>\n",
       "      <td>7.7</td>\n",
       "      <td>91.0</td>\n",
       "      <td>6.5</td>\n",
       "      <td>1.3000</td>\n",
       "      <td>0.516</td>\n",
       "      <td>0</td>\n",
       "    </tr>\n",
       "    <tr>\n",
       "      <th>1861</th>\n",
       "      <td>29.0</td>\n",
       "      <td>7.6</td>\n",
       "      <td>110.0</td>\n",
       "      <td>5.7</td>\n",
       "      <td>1.1000</td>\n",
       "      <td>0.516</td>\n",
       "      <td>0</td>\n",
       "    </tr>\n",
       "  </tbody>\n",
       "</table>\n",
       "<p>1857 rows × 7 columns</p>\n",
       "</div>"
      ],
      "text/plain": [
       "      Temp   DO     PH  Conductivity     BOD     NI  WQI clf\n",
       "0     30.6  6.7    7.5         203.0  1.8965  0.100        1\n",
       "1     29.8  5.7    7.2         189.0  2.0000  0.200        0\n",
       "2     29.5  6.3    6.9         179.0  1.7000  0.100        0\n",
       "3     29.7  5.8    6.9          64.0  3.8000  0.500        0\n",
       "4     29.5  5.8    7.3          83.0  1.9000  0.400        0\n",
       "...    ...  ...    ...           ...     ...    ...      ...\n",
       "1857  27.0  7.9  738.0           7.2  2.7000  0.518        0\n",
       "1858  29.0  7.5  585.0           6.3  2.6000  0.155        0\n",
       "1859  28.0  7.6   98.0           6.2  1.2000  0.516        0\n",
       "1860  28.0  7.7   91.0           6.5  1.3000  0.516        0\n",
       "1861  29.0  7.6  110.0           5.7  1.1000  0.516        0\n",
       "\n",
       "[1857 rows x 7 columns]"
      ]
     },
     "execution_count": 79,
     "metadata": {},
     "output_type": "execute_result"
    }
   ],
   "source": [
    "df_wqi.drop(['WQI','STATION CODE','LOCATIONS','STATE','Fec_col','Tot_col','year'],axis=1)"
   ]
  },
  {
   "cell_type": "code",
   "execution_count": null,
   "id": "a19d09a5",
   "metadata": {},
   "outputs": [],
   "source": [
    "new_data"
   ]
  }
 ],
 "metadata": {
  "kernelspec": {
   "display_name": "Python 3 (ipykernel)",
   "language": "python",
   "name": "python3"
  },
  "language_info": {
   "codemirror_mode": {
    "name": "ipython",
    "version": 3
   },
   "file_extension": ".py",
   "mimetype": "text/x-python",
   "name": "python",
   "nbconvert_exporter": "python",
   "pygments_lexer": "ipython3",
   "version": "3.9.12"
  }
 },
 "nbformat": 4,
 "nbformat_minor": 5
}
